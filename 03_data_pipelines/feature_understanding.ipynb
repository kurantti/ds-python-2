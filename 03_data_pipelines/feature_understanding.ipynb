{
 "cells": [
  {
   "cell_type": "markdown",
   "metadata": {},
   "source": [
    "# understanding the features"
   ]
  },
  {
   "cell_type": "markdown",
   "metadata": {},
   "source": [
    "this analysis is build uses the joined dataset.\n"
   ]
  },
  {
   "cell_type": "code",
   "execution_count": 1,
   "metadata": {},
   "outputs": [
    {
     "name": "stdout",
     "output_type": "stream",
     "text": [
      "['/Users/jp/GitHub/ds-python-2/03_data_pipelines', '/Users/jp/miniconda3/envs/python_ds2_3.9/lib/python39.zip', '/Users/jp/miniconda3/envs/python_ds2_3.9/lib/python3.9', '/Users/jp/miniconda3/envs/python_ds2_3.9/lib/python3.9/lib-dynload', '', '/Users/jp/miniconda3/envs/python_ds2_3.9/lib/python3.9/site-packages', '/Users/jp/GitHub/ds-python-2/email_lead_scoring']\n"
     ]
    }
   ],
   "source": [
    "import os\n",
    "import sys\n",
    "module_path2 = os.path.abspath(os.path.join('..'))\n",
    "x2 = module_path2+\"/email_lead_scoring\"\n",
    "if x2 not in sys.path:\n",
    "    sys.path.append(x2)\n",
    "print(sys.path)"
   ]
  },
  {
   "cell_type": "code",
   "execution_count": 2,
   "metadata": {},
   "outputs": [
    {
     "data": {
      "text/plain": [
       "'/Users/jp/GitHub/ds-python-2/email_lead_scoring'"
      ]
     },
     "execution_count": 2,
     "metadata": {},
     "output_type": "execute_result"
    }
   ],
   "source": [
    "os.getcwd()\n",
    "x2\n",
    "#os.path.abspath(os.path.join('..'))"
   ]
  },
  {
   "cell_type": "code",
   "execution_count": 3,
   "metadata": {},
   "outputs": [
    {
     "name": "stderr",
     "output_type": "stream",
     "text": [
      "/Users/jp/miniconda3/envs/python_ds2_3.9/lib/python3.9/site-packages/janitor/utils.py:84: FutureWarning: PandasArray has been renamed NumpyExtensionArray. Use that instead. This alias will be removed in a future version.\n",
      "  @_expand_grid.register(pd.arrays.PandasArray)\n"
     ]
    }
   ],
   "source": [
    "\n",
    "import pandas as pd\n",
    "import numpy as np\n",
    "import plotly.express as px\n",
    "# EDA \n",
    "import re\n",
    "import janitor as jn\n",
    "import sweetviz as sv\n",
    "# Email Lead Scoring\n",
    "from read_datas import join_crm_datas\n",
    "from eda import sales_by_category\n",
    "\n"
   ]
  },
  {
   "cell_type": "code",
   "execution_count": 4,
   "metadata": {},
   "outputs": [],
   "source": [
    "leads_df = join_crm_datas('no')"
   ]
  },
  {
   "cell_type": "code",
   "execution_count": null,
   "metadata": {},
   "outputs": [],
   "source": []
  },
  {
   "cell_type": "markdown",
   "metadata": {},
   "source": [
    "### cardinality\n",
    "high cardinality means that data has many unique values, for example, a column with a person's name has high cardinality because there are many different names. cardinality"
   ]
  },
  {
   "cell_type": "code",
   "execution_count": 5,
   "metadata": {},
   "outputs": [
    {
     "data": {
      "text/html": [
       "<div>\n",
       "<style scoped>\n",
       "    .dataframe tbody tr th:only-of-type {\n",
       "        vertical-align: middle;\n",
       "    }\n",
       "\n",
       "    .dataframe tbody tr th {\n",
       "        vertical-align: top;\n",
       "    }\n",
       "\n",
       "    .dataframe thead th {\n",
       "        text-align: right;\n",
       "    }\n",
       "</style>\n",
       "<table border=\"1\" class=\"dataframe\">\n",
       "  <thead>\n",
       "    <tr style=\"text-align: right;\">\n",
       "      <th></th>\n",
       "      <th>0</th>\n",
       "      <th>1</th>\n",
       "      <th>2</th>\n",
       "      <th>3</th>\n",
       "      <th>4</th>\n",
       "      <th>5</th>\n",
       "      <th>6</th>\n",
       "      <th>7</th>\n",
       "      <th>8</th>\n",
       "      <th>9</th>\n",
       "      <th>...</th>\n",
       "      <th>19909</th>\n",
       "      <th>19910</th>\n",
       "      <th>19911</th>\n",
       "      <th>19912</th>\n",
       "      <th>19913</th>\n",
       "      <th>19914</th>\n",
       "      <th>19915</th>\n",
       "      <th>19916</th>\n",
       "      <th>19917</th>\n",
       "      <th>19918</th>\n",
       "    </tr>\n",
       "  </thead>\n",
       "  <tbody>\n",
       "    <tr>\n",
       "      <th>mailchimp_id</th>\n",
       "      <td>3</td>\n",
       "      <td>4</td>\n",
       "      <td>8</td>\n",
       "      <td>10</td>\n",
       "      <td>11</td>\n",
       "      <td>14</td>\n",
       "      <td>18</td>\n",
       "      <td>19</td>\n",
       "      <td>20</td>\n",
       "      <td>22</td>\n",
       "      <td>...</td>\n",
       "      <td>33395</td>\n",
       "      <td>33396</td>\n",
       "      <td>33400</td>\n",
       "      <td>33402</td>\n",
       "      <td>33403</td>\n",
       "      <td>33405</td>\n",
       "      <td>33406</td>\n",
       "      <td>33407</td>\n",
       "      <td>33408</td>\n",
       "      <td>33409</td>\n",
       "    </tr>\n",
       "    <tr>\n",
       "      <th>user_full_name</th>\n",
       "      <td>Garrick Langworth</td>\n",
       "      <td>Cordell Dickens</td>\n",
       "      <td>Inga Dach</td>\n",
       "      <td>Ferdinand Bergstrom</td>\n",
       "      <td>Justen Simonis</td>\n",
       "      <td>Marion Corwin</td>\n",
       "      <td>Dr Sharif Kunde</td>\n",
       "      <td>Marlena Reichert d.d.s.</td>\n",
       "      <td>Mr. Brandan Oberbrunner</td>\n",
       "      <td>Keesha Schowalter</td>\n",
       "      <td>...</td>\n",
       "      <td>Royce Franecki-Stoltenberg</td>\n",
       "      <td>Alvis Spencer-Jones</td>\n",
       "      <td>Treyton Kirlin</td>\n",
       "      <td>Miss. Margeret Labadie</td>\n",
       "      <td>Sybil Hackett</td>\n",
       "      <td>Ms. Felicity Moore MD</td>\n",
       "      <td>Shirley Rowe</td>\n",
       "      <td>Jarrett Walker-Carroll</td>\n",
       "      <td>Tanja Herzog</td>\n",
       "      <td>Farrell Murphy</td>\n",
       "    </tr>\n",
       "    <tr>\n",
       "      <th>user_email</th>\n",
       "      <td>garrick.langworth@gmail.com</td>\n",
       "      <td>cordell.dickens@gmail.com</td>\n",
       "      <td>inga.dach@gmail.com</td>\n",
       "      <td>ferdinand.bergstrom@gmail.com</td>\n",
       "      <td>justen.simonis@gmail.com</td>\n",
       "      <td>marion.corwin@hotmail.com</td>\n",
       "      <td>dr.sharif.kunde@gmail.com</td>\n",
       "      <td>marlena.reichert.dds@gmail.com</td>\n",
       "      <td>mr.brandan.oberbrunner@gmail.com</td>\n",
       "      <td>keesha.schowalter@hotmail.com</td>\n",
       "      <td>...</td>\n",
       "      <td>royce.franeckistoltenberg@gmail.com</td>\n",
       "      <td>alvis.spencerjones@gmail.com</td>\n",
       "      <td>treyton.kirlin@gmail.com</td>\n",
       "      <td>miss.margeret.labadie@gmail.com</td>\n",
       "      <td>sybil.hackett@gmail.com</td>\n",
       "      <td>ms.felicity.moore.md@gmail.com</td>\n",
       "      <td>shirley.rowe@gmail.com</td>\n",
       "      <td>jarrett.walkercarroll@gmail.com</td>\n",
       "      <td>tanja.herzog@gmail.com</td>\n",
       "      <td>farrell.murphy@gmail.com</td>\n",
       "    </tr>\n",
       "    <tr>\n",
       "      <th>member_rating</th>\n",
       "      <td>2</td>\n",
       "      <td>4</td>\n",
       "      <td>2</td>\n",
       "      <td>2</td>\n",
       "      <td>2</td>\n",
       "      <td>2</td>\n",
       "      <td>2</td>\n",
       "      <td>2</td>\n",
       "      <td>4</td>\n",
       "      <td>2</td>\n",
       "      <td>...</td>\n",
       "      <td>2</td>\n",
       "      <td>2</td>\n",
       "      <td>2</td>\n",
       "      <td>2</td>\n",
       "      <td>2</td>\n",
       "      <td>2</td>\n",
       "      <td>1</td>\n",
       "      <td>2</td>\n",
       "      <td>2</td>\n",
       "      <td>2</td>\n",
       "    </tr>\n",
       "    <tr>\n",
       "      <th>optin_time</th>\n",
       "      <td>2019-05-22</td>\n",
       "      <td>2018-11-19</td>\n",
       "      <td>2018-11-19</td>\n",
       "      <td>2020-03-20</td>\n",
       "      <td>2020-04-14</td>\n",
       "      <td>2019-11-04</td>\n",
       "      <td>2020-01-22</td>\n",
       "      <td>2020-12-06</td>\n",
       "      <td>2019-07-10</td>\n",
       "      <td>2019-04-10</td>\n",
       "      <td>...</td>\n",
       "      <td>2020-10-27</td>\n",
       "      <td>2019-10-10</td>\n",
       "      <td>2020-06-08</td>\n",
       "      <td>2020-07-22</td>\n",
       "      <td>2019-11-25</td>\n",
       "      <td>2018-11-18</td>\n",
       "      <td>2019-03-12</td>\n",
       "      <td>2019-09-09</td>\n",
       "      <td>2019-10-24</td>\n",
       "      <td>2020-06-19</td>\n",
       "    </tr>\n",
       "    <tr>\n",
       "      <th>country_code</th>\n",
       "      <td>in</td>\n",
       "      <td>it</td>\n",
       "      <td>&lt;NA&gt;</td>\n",
       "      <td>co</td>\n",
       "      <td>&lt;NA&gt;</td>\n",
       "      <td>mx</td>\n",
       "      <td>&lt;NA&gt;</td>\n",
       "      <td>in</td>\n",
       "      <td>us</td>\n",
       "      <td>sg</td>\n",
       "      <td>...</td>\n",
       "      <td>fr</td>\n",
       "      <td>&lt;NA&gt;</td>\n",
       "      <td>it</td>\n",
       "      <td>&lt;NA&gt;</td>\n",
       "      <td>&lt;NA&gt;</td>\n",
       "      <td>se</td>\n",
       "      <td>br</td>\n",
       "      <td>in</td>\n",
       "      <td>&lt;NA&gt;</td>\n",
       "      <td>ae</td>\n",
       "    </tr>\n",
       "    <tr>\n",
       "      <th>tag_count</th>\n",
       "      <td>6.0</td>\n",
       "      <td>0.0</td>\n",
       "      <td>0.0</td>\n",
       "      <td>3.0</td>\n",
       "      <td>0.0</td>\n",
       "      <td>0.0</td>\n",
       "      <td>2.0</td>\n",
       "      <td>0.0</td>\n",
       "      <td>4.0</td>\n",
       "      <td>2.0</td>\n",
       "      <td>...</td>\n",
       "      <td>0.0</td>\n",
       "      <td>0.0</td>\n",
       "      <td>0.0</td>\n",
       "      <td>2.0</td>\n",
       "      <td>0.0</td>\n",
       "      <td>0.0</td>\n",
       "      <td>0.0</td>\n",
       "      <td>0.0</td>\n",
       "      <td>2.0</td>\n",
       "      <td>0.0</td>\n",
       "    </tr>\n",
       "    <tr>\n",
       "      <th>made_purchase</th>\n",
       "      <td>1</td>\n",
       "      <td>1</td>\n",
       "      <td>1</td>\n",
       "      <td>1</td>\n",
       "      <td>0</td>\n",
       "      <td>0</td>\n",
       "      <td>1</td>\n",
       "      <td>1</td>\n",
       "      <td>1</td>\n",
       "      <td>0</td>\n",
       "      <td>...</td>\n",
       "      <td>0</td>\n",
       "      <td>0</td>\n",
       "      <td>0</td>\n",
       "      <td>0</td>\n",
       "      <td>0</td>\n",
       "      <td>0</td>\n",
       "      <td>0</td>\n",
       "      <td>0</td>\n",
       "      <td>0</td>\n",
       "      <td>0</td>\n",
       "    </tr>\n",
       "  </tbody>\n",
       "</table>\n",
       "<p>8 rows × 19919 columns</p>\n",
       "</div>"
      ],
      "text/plain": [
       "                                      0                          1      \\\n",
       "mailchimp_id                              3                          4   \n",
       "user_full_name            Garrick Langworth            Cordell Dickens   \n",
       "user_email      garrick.langworth@gmail.com  cordell.dickens@gmail.com   \n",
       "member_rating                             2                          4   \n",
       "optin_time                       2019-05-22                 2018-11-19   \n",
       "country_code                             in                         it   \n",
       "tag_count                               6.0                        0.0   \n",
       "made_purchase                             1                          1   \n",
       "\n",
       "                              2                              3      \\\n",
       "mailchimp_id                      8                             10   \n",
       "user_full_name            Inga Dach            Ferdinand Bergstrom   \n",
       "user_email      inga.dach@gmail.com  ferdinand.bergstrom@gmail.com   \n",
       "member_rating                     2                              2   \n",
       "optin_time               2018-11-19                     2020-03-20   \n",
       "country_code                   <NA>                             co   \n",
       "tag_count                       0.0                            3.0   \n",
       "made_purchase                     1                              1   \n",
       "\n",
       "                                   4                          5      \\\n",
       "mailchimp_id                          11                         14   \n",
       "user_full_name            Justen Simonis              Marion Corwin   \n",
       "user_email      justen.simonis@gmail.com  marion.corwin@hotmail.com   \n",
       "member_rating                          2                          2   \n",
       "optin_time                    2020-04-14                 2019-11-04   \n",
       "country_code                        <NA>                         mx   \n",
       "tag_count                            0.0                        0.0   \n",
       "made_purchase                          0                          0   \n",
       "\n",
       "                                    6                               7      \\\n",
       "mailchimp_id                           18                              19   \n",
       "user_full_name            Dr Sharif Kunde         Marlena Reichert d.d.s.   \n",
       "user_email      dr.sharif.kunde@gmail.com  marlena.reichert.dds@gmail.com   \n",
       "member_rating                           2                               2   \n",
       "optin_time                     2020-01-22                      2020-12-06   \n",
       "country_code                         <NA>                              in   \n",
       "tag_count                             2.0                             0.0   \n",
       "made_purchase                           1                               1   \n",
       "\n",
       "                                           8      \\\n",
       "mailchimp_id                                  20   \n",
       "user_full_name           Mr. Brandan Oberbrunner   \n",
       "user_email      mr.brandan.oberbrunner@gmail.com   \n",
       "member_rating                                  4   \n",
       "optin_time                            2019-07-10   \n",
       "country_code                                  us   \n",
       "tag_count                                    4.0   \n",
       "made_purchase                                  1   \n",
       "\n",
       "                                        9      ...  \\\n",
       "mailchimp_id                               22  ...   \n",
       "user_full_name              Keesha Schowalter  ...   \n",
       "user_email      keesha.schowalter@hotmail.com  ...   \n",
       "member_rating                               2  ...   \n",
       "optin_time                         2019-04-10  ...   \n",
       "country_code                               sg  ...   \n",
       "tag_count                                 2.0  ...   \n",
       "made_purchase                               0  ...   \n",
       "\n",
       "                                              19909  \\\n",
       "mailchimp_id                                  33395   \n",
       "user_full_name           Royce Franecki-Stoltenberg   \n",
       "user_email      royce.franeckistoltenberg@gmail.com   \n",
       "member_rating                                     2   \n",
       "optin_time                               2020-10-27   \n",
       "country_code                                     fr   \n",
       "tag_count                                       0.0   \n",
       "made_purchase                                     0   \n",
       "\n",
       "                                       19910                     19911  \\\n",
       "mailchimp_id                           33396                     33400   \n",
       "user_full_name           Alvis Spencer-Jones            Treyton Kirlin   \n",
       "user_email      alvis.spencerjones@gmail.com  treyton.kirlin@gmail.com   \n",
       "member_rating                              2                         2   \n",
       "optin_time                        2019-10-10                2020-06-08   \n",
       "country_code                            <NA>                        it   \n",
       "tag_count                                0.0                       0.0   \n",
       "made_purchase                              0                         0   \n",
       "\n",
       "                                          19912                    19913  \\\n",
       "mailchimp_id                              33402                    33403   \n",
       "user_full_name           Miss. Margeret Labadie            Sybil Hackett   \n",
       "user_email      miss.margeret.labadie@gmail.com  sybil.hackett@gmail.com   \n",
       "member_rating                                 2                        2   \n",
       "optin_time                           2020-07-22               2019-11-25   \n",
       "country_code                               <NA>                     <NA>   \n",
       "tag_count                                   2.0                      0.0   \n",
       "made_purchase                                 0                        0   \n",
       "\n",
       "                                         19914                   19915  \\\n",
       "mailchimp_id                             33405                   33406   \n",
       "user_full_name           Ms. Felicity Moore MD            Shirley Rowe   \n",
       "user_email      ms.felicity.moore.md@gmail.com  shirley.rowe@gmail.com   \n",
       "member_rating                                2                       1   \n",
       "optin_time                          2018-11-18              2019-03-12   \n",
       "country_code                                se                      br   \n",
       "tag_count                                  0.0                     0.0   \n",
       "made_purchase                                0                       0   \n",
       "\n",
       "                                          19916                   19917  \\\n",
       "mailchimp_id                              33407                   33408   \n",
       "user_full_name           Jarrett Walker-Carroll            Tanja Herzog   \n",
       "user_email      jarrett.walkercarroll@gmail.com  tanja.herzog@gmail.com   \n",
       "member_rating                                 2                       2   \n",
       "optin_time                           2019-09-09              2019-10-24   \n",
       "country_code                                 in                    <NA>   \n",
       "tag_count                                   0.0                     2.0   \n",
       "made_purchase                                 0                       0   \n",
       "\n",
       "                                   19918  \n",
       "mailchimp_id                       33409  \n",
       "user_full_name            Farrell Murphy  \n",
       "user_email      farrell.murphy@gmail.com  \n",
       "member_rating                          2  \n",
       "optin_time                    2020-06-19  \n",
       "country_code                          ae  \n",
       "tag_count                            0.0  \n",
       "made_purchase                          0  \n",
       "\n",
       "[8 rows x 19919 columns]"
      ]
     },
     "execution_count": 5,
     "metadata": {},
     "output_type": "execute_result"
    }
   ],
   "source": [
    "leads_df.T"
   ]
  },
  {
   "cell_type": "markdown",
   "metadata": {},
   "source": [
    "most of the sales comes from US and India, when sales is set arbirary over 5, the country list goes down from 183 to 21. Generally its good idea to group there countries to 'other' group since they add little predictive value."
   ]
  },
  {
   "cell_type": "code",
   "execution_count": 6,
   "metadata": {},
   "outputs": [],
   "source": [
    "sales_by_cat = sales_by_category(leads_df, 'country_code', sort_by='sales').reset_index()"
   ]
  },
  {
   "cell_type": "code",
   "execution_count": 7,
   "metadata": {},
   "outputs": [
    {
     "data": {
      "text/html": [
       "<div>\n",
       "<style scoped>\n",
       "    .dataframe tbody tr th:only-of-type {\n",
       "        vertical-align: middle;\n",
       "    }\n",
       "\n",
       "    .dataframe tbody tr th {\n",
       "        vertical-align: top;\n",
       "    }\n",
       "\n",
       "    .dataframe thead th {\n",
       "        text-align: right;\n",
       "    }\n",
       "</style>\n",
       "<table border=\"1\" class=\"dataframe\">\n",
       "  <thead>\n",
       "    <tr style=\"text-align: right;\">\n",
       "      <th></th>\n",
       "      <th>country_code</th>\n",
       "      <th>sales</th>\n",
       "      <th>sales_ratio_per_country</th>\n",
       "      <th>ratio_of_total_sales</th>\n",
       "      <th>cumulative_sum</th>\n",
       "    </tr>\n",
       "  </thead>\n",
       "  <tbody>\n",
       "    <tr>\n",
       "      <th>0</th>\n",
       "      <td>us</td>\n",
       "      <td>406</td>\n",
       "      <td>0.107209</td>\n",
       "      <td>0.464531</td>\n",
       "      <td>0.464531</td>\n",
       "    </tr>\n",
       "    <tr>\n",
       "      <th>1</th>\n",
       "      <td>in</td>\n",
       "      <td>76</td>\n",
       "      <td>0.027890</td>\n",
       "      <td>0.086957</td>\n",
       "      <td>0.551487</td>\n",
       "    </tr>\n",
       "    <tr>\n",
       "      <th>2</th>\n",
       "      <td>au</td>\n",
       "      <td>37</td>\n",
       "      <td>0.121311</td>\n",
       "      <td>0.042334</td>\n",
       "      <td>0.593822</td>\n",
       "    </tr>\n",
       "    <tr>\n",
       "      <th>3</th>\n",
       "      <td>uk</td>\n",
       "      <td>32</td>\n",
       "      <td>0.062992</td>\n",
       "      <td>0.036613</td>\n",
       "      <td>0.630435</td>\n",
       "    </tr>\n",
       "    <tr>\n",
       "      <th>4</th>\n",
       "      <td>br</td>\n",
       "      <td>25</td>\n",
       "      <td>0.068306</td>\n",
       "      <td>0.028604</td>\n",
       "      <td>0.659039</td>\n",
       "    </tr>\n",
       "    <tr>\n",
       "      <th>5</th>\n",
       "      <td>ca</td>\n",
       "      <td>24</td>\n",
       "      <td>0.061538</td>\n",
       "      <td>0.027460</td>\n",
       "      <td>0.686499</td>\n",
       "    </tr>\n",
       "    <tr>\n",
       "      <th>6</th>\n",
       "      <td>de</td>\n",
       "      <td>22</td>\n",
       "      <td>0.078571</td>\n",
       "      <td>0.025172</td>\n",
       "      <td>0.711670</td>\n",
       "    </tr>\n",
       "    <tr>\n",
       "      <th>7</th>\n",
       "      <td>fr</td>\n",
       "      <td>13</td>\n",
       "      <td>0.045614</td>\n",
       "      <td>0.014874</td>\n",
       "      <td>0.726545</td>\n",
       "    </tr>\n",
       "    <tr>\n",
       "      <th>8</th>\n",
       "      <td>es</td>\n",
       "      <td>12</td>\n",
       "      <td>0.043165</td>\n",
       "      <td>0.013730</td>\n",
       "      <td>0.740275</td>\n",
       "    </tr>\n",
       "    <tr>\n",
       "      <th>9</th>\n",
       "      <td>mx</td>\n",
       "      <td>11</td>\n",
       "      <td>0.061111</td>\n",
       "      <td>0.012586</td>\n",
       "      <td>0.752860</td>\n",
       "    </tr>\n",
       "    <tr>\n",
       "      <th>10</th>\n",
       "      <td>nl</td>\n",
       "      <td>11</td>\n",
       "      <td>0.070064</td>\n",
       "      <td>0.012586</td>\n",
       "      <td>0.765446</td>\n",
       "    </tr>\n",
       "    <tr>\n",
       "      <th>11</th>\n",
       "      <td>sg</td>\n",
       "      <td>10</td>\n",
       "      <td>0.062893</td>\n",
       "      <td>0.011442</td>\n",
       "      <td>0.776888</td>\n",
       "    </tr>\n",
       "    <tr>\n",
       "      <th>12</th>\n",
       "      <td>dk</td>\n",
       "      <td>10</td>\n",
       "      <td>0.175439</td>\n",
       "      <td>0.011442</td>\n",
       "      <td>0.788330</td>\n",
       "    </tr>\n",
       "    <tr>\n",
       "      <th>13</th>\n",
       "      <td>pl</td>\n",
       "      <td>9</td>\n",
       "      <td>0.120000</td>\n",
       "      <td>0.010297</td>\n",
       "      <td>0.798627</td>\n",
       "    </tr>\n",
       "    <tr>\n",
       "      <th>14</th>\n",
       "      <td>my</td>\n",
       "      <td>9</td>\n",
       "      <td>0.092784</td>\n",
       "      <td>0.010297</td>\n",
       "      <td>0.808924</td>\n",
       "    </tr>\n",
       "    <tr>\n",
       "      <th>15</th>\n",
       "      <td>ae</td>\n",
       "      <td>9</td>\n",
       "      <td>0.082569</td>\n",
       "      <td>0.010297</td>\n",
       "      <td>0.819222</td>\n",
       "    </tr>\n",
       "    <tr>\n",
       "      <th>16</th>\n",
       "      <td>co</td>\n",
       "      <td>8</td>\n",
       "      <td>0.057143</td>\n",
       "      <td>0.009153</td>\n",
       "      <td>0.828375</td>\n",
       "    </tr>\n",
       "    <tr>\n",
       "      <th>17</th>\n",
       "      <td>id</td>\n",
       "      <td>8</td>\n",
       "      <td>0.059259</td>\n",
       "      <td>0.009153</td>\n",
       "      <td>0.837529</td>\n",
       "    </tr>\n",
       "    <tr>\n",
       "      <th>18</th>\n",
       "      <td>ng</td>\n",
       "      <td>6</td>\n",
       "      <td>0.039735</td>\n",
       "      <td>0.006865</td>\n",
       "      <td>0.844394</td>\n",
       "    </tr>\n",
       "    <tr>\n",
       "      <th>19</th>\n",
       "      <td>jp</td>\n",
       "      <td>6</td>\n",
       "      <td>0.095238</td>\n",
       "      <td>0.006865</td>\n",
       "      <td>0.851259</td>\n",
       "    </tr>\n",
       "    <tr>\n",
       "      <th>20</th>\n",
       "      <td>be</td>\n",
       "      <td>6</td>\n",
       "      <td>0.113208</td>\n",
       "      <td>0.006865</td>\n",
       "      <td>0.858124</td>\n",
       "    </tr>\n",
       "  </tbody>\n",
       "</table>\n",
       "</div>"
      ],
      "text/plain": [
       "   country_code  sales  sales_ratio_per_country  ratio_of_total_sales  \\\n",
       "0            us    406                 0.107209              0.464531   \n",
       "1            in     76                 0.027890              0.086957   \n",
       "2            au     37                 0.121311              0.042334   \n",
       "3            uk     32                 0.062992              0.036613   \n",
       "4            br     25                 0.068306              0.028604   \n",
       "5            ca     24                 0.061538              0.027460   \n",
       "6            de     22                 0.078571              0.025172   \n",
       "7            fr     13                 0.045614              0.014874   \n",
       "8            es     12                 0.043165              0.013730   \n",
       "9            mx     11                 0.061111              0.012586   \n",
       "10           nl     11                 0.070064              0.012586   \n",
       "11           sg     10                 0.062893              0.011442   \n",
       "12           dk     10                 0.175439              0.011442   \n",
       "13           pl      9                 0.120000              0.010297   \n",
       "14           my      9                 0.092784              0.010297   \n",
       "15           ae      9                 0.082569              0.010297   \n",
       "16           co      8                 0.057143              0.009153   \n",
       "17           id      8                 0.059259              0.009153   \n",
       "18           ng      6                 0.039735              0.006865   \n",
       "19           jp      6                 0.095238              0.006865   \n",
       "20           be      6                 0.113208              0.006865   \n",
       "\n",
       "    cumulative_sum  \n",
       "0         0.464531  \n",
       "1         0.551487  \n",
       "2         0.593822  \n",
       "3         0.630435  \n",
       "4         0.659039  \n",
       "5         0.686499  \n",
       "6         0.711670  \n",
       "7         0.726545  \n",
       "8         0.740275  \n",
       "9         0.752860  \n",
       "10        0.765446  \n",
       "11        0.776888  \n",
       "12        0.788330  \n",
       "13        0.798627  \n",
       "14        0.808924  \n",
       "15        0.819222  \n",
       "16        0.828375  \n",
       "17        0.837529  \n",
       "18        0.844394  \n",
       "19        0.851259  \n",
       "20        0.858124  "
      ]
     },
     "execution_count": 7,
     "metadata": {},
     "output_type": "execute_result"
    }
   ],
   "source": [
    "sales_by_cat_ab5 = sales_by_cat.query('sales > 5')\n",
    "sales_by_cat_ab5"
   ]
  },
  {
   "cell_type": "code",
   "execution_count": 8,
   "metadata": {},
   "outputs": [
    {
     "data": {
      "application/vnd.plotly.v1+json": {
       "config": {
        "plotlyServerURL": "https://plot.ly"
       },
       "data": [
        {
         "alignmentgroup": "True",
         "hovertemplate": "country_code=%{x}<br>sales=%{marker.color}<extra></extra>",
         "legendgroup": "",
         "marker": {
          "color": [
           406,
           76,
           37,
           32,
           25,
           24,
           22,
           13,
           12,
           11,
           11,
           10,
           10,
           9,
           9,
           9,
           8,
           8,
           6,
           6,
           6,
           5,
           5,
           5,
           5,
           5,
           4,
           4,
           4,
           4,
           4,
           3,
           3,
           3,
           3,
           3,
           3,
           3,
           3,
           3,
           3,
           3,
           2,
           2,
           2,
           2,
           2,
           2,
           2,
           2,
           1,
           1,
           1,
           1,
           1,
           1,
           1,
           1,
           1,
           1,
           1,
           1,
           1,
           1,
           1,
           1,
           1,
           1,
           1,
           1,
           1,
           1,
           1,
           1,
           1,
           1,
           1,
           1,
           1,
           1,
           0,
           0,
           0,
           0,
           0,
           0,
           0,
           0,
           0,
           0,
           0,
           0,
           0,
           0,
           0,
           0,
           0,
           0,
           0,
           0,
           0,
           0,
           0,
           0,
           0,
           0,
           0,
           0,
           0,
           0,
           0,
           0,
           0,
           0,
           0,
           0,
           0,
           0,
           0,
           0,
           0,
           0,
           0,
           0,
           0,
           0,
           0,
           0,
           0,
           0,
           0,
           0,
           0,
           0,
           0,
           0,
           0,
           0,
           0,
           0,
           0,
           0,
           0,
           0,
           0,
           0,
           0,
           0,
           0,
           0,
           0,
           0,
           0,
           0,
           0,
           0,
           0,
           0,
           0,
           0,
           0,
           0,
           0,
           0,
           0,
           0,
           0,
           0,
           0,
           0,
           0,
           0,
           0,
           0,
           0,
           0,
           0,
           0,
           0,
           0,
           0,
           0,
           0
          ],
          "coloraxis": "coloraxis",
          "pattern": {
           "shape": ""
          }
         },
         "name": "",
         "offsetgroup": "",
         "orientation": "v",
         "showlegend": false,
         "textposition": "auto",
         "type": "bar",
         "x": [
          "us",
          "in",
          "au",
          "uk",
          "br",
          "ca",
          "de",
          "fr",
          "es",
          "mx",
          "nl",
          "sg",
          "dk",
          "pl",
          "my",
          "ae",
          "co",
          "id",
          "ng",
          "jp",
          "be",
          "pe",
          "nz",
          "za",
          "it",
          "sk",
          "ie",
          "th",
          "ke",
          "kr",
          "pt",
          "az",
          "se",
          "cl",
          "sa",
          "pa",
          "ar",
          "hr",
          "ru",
          "hk",
          "fi",
          "ch",
          "cr",
          "ph",
          "cz",
          "ma",
          "vn",
          "lu",
          "no",
          "kw",
          "gr",
          "ga",
          "mu",
          "lv",
          "lt",
          "pr",
          "lb",
          "pk",
          "gh",
          "ir",
          "iq",
          "ec",
          "gt",
          "eg",
          "zw",
          "mm",
          "cd",
          "sv",
          "at",
          "dz",
          "bd",
          "sr",
          "bg",
          "bj",
          "bm",
          "bo",
          "tr",
          "cm",
          "cn",
          "qa",
          "ve",
          "zm",
          "tt",
          "ne",
          "tw",
          "mo",
          "mt",
          "tz",
          "na",
          "mw",
          "uz",
          "ye",
          "ua",
          "mz",
          "ws",
          "ni",
          "uy",
          "ug",
          "py",
          "tn",
          "tg",
          "re",
          "ps",
          "mn",
          "ro",
          "rs",
          "rw",
          "sb",
          "sd",
          "si",
          "pg",
          "sn",
          "so",
          "om",
          "ss",
          "np",
          "st",
          "BR",
          "ml",
          "cf",
          "by",
          "bw",
          "bt",
          "bn",
          "bi",
          "bh",
          "bf",
          "bb",
          "ba",
          "ao",
          "am",
          "al",
          "af",
          "ZA",
          "US",
          "UK",
          "TR",
          "TN",
          "SE",
          "RU",
          "RS",
          "PL",
          "PE",
          "LV",
          "IN",
          "ID",
          "HU",
          "GH",
          "DE",
          "bz",
          "ci",
          "mk",
          "cu",
          "mg",
          "me",
          "md",
          "ly",
          "lk",
          "kz",
          "km",
          "kh",
          "kg",
          "jo",
          "jm",
          "je",
          "CA",
          "il",
          "hu",
          "ht",
          "hn",
          "gq",
          "gn",
          "gl",
          "ge",
          "eu",
          "et",
          "ee",
          "do",
          "dm",
          "cy",
          "cw",
          "cv",
          "is"
         ],
         "xaxis": "x",
         "y": [
          406,
          76,
          37,
          32,
          25,
          24,
          22,
          13,
          12,
          11,
          11,
          10,
          10,
          9,
          9,
          9,
          8,
          8,
          6,
          6,
          6,
          5,
          5,
          5,
          5,
          5,
          4,
          4,
          4,
          4,
          4,
          3,
          3,
          3,
          3,
          3,
          3,
          3,
          3,
          3,
          3,
          3,
          2,
          2,
          2,
          2,
          2,
          2,
          2,
          2,
          1,
          1,
          1,
          1,
          1,
          1,
          1,
          1,
          1,
          1,
          1,
          1,
          1,
          1,
          1,
          1,
          1,
          1,
          1,
          1,
          1,
          1,
          1,
          1,
          1,
          1,
          1,
          1,
          1,
          1,
          0,
          0,
          0,
          0,
          0,
          0,
          0,
          0,
          0,
          0,
          0,
          0,
          0,
          0,
          0,
          0,
          0,
          0,
          0,
          0,
          0,
          0,
          0,
          0,
          0,
          0,
          0,
          0,
          0,
          0,
          0,
          0,
          0,
          0,
          0,
          0,
          0,
          0,
          0,
          0,
          0,
          0,
          0,
          0,
          0,
          0,
          0,
          0,
          0,
          0,
          0,
          0,
          0,
          0,
          0,
          0,
          0,
          0,
          0,
          0,
          0,
          0,
          0,
          0,
          0,
          0,
          0,
          0,
          0,
          0,
          0,
          0,
          0,
          0,
          0,
          0,
          0,
          0,
          0,
          0,
          0,
          0,
          0,
          0,
          0,
          0,
          0,
          0,
          0,
          0,
          0,
          0,
          0,
          0,
          0,
          0,
          0,
          0,
          0,
          0,
          0,
          0,
          0
         ],
         "yaxis": "y"
        }
       ],
       "layout": {
        "barmode": "relative",
        "coloraxis": {
         "colorbar": {
          "title": {
           "text": "sales"
          }
         },
         "colorscale": [
          [
           0,
           "#0d0887"
          ],
          [
           0.1111111111111111,
           "#46039f"
          ],
          [
           0.2222222222222222,
           "#7201a8"
          ],
          [
           0.3333333333333333,
           "#9c179e"
          ],
          [
           0.4444444444444444,
           "#bd3786"
          ],
          [
           0.5555555555555556,
           "#d8576b"
          ],
          [
           0.6666666666666666,
           "#ed7953"
          ],
          [
           0.7777777777777778,
           "#fb9f3a"
          ],
          [
           0.8888888888888888,
           "#fdca26"
          ],
          [
           1,
           "#f0f921"
          ]
         ]
        },
        "legend": {
         "tracegroupgap": 0
        },
        "template": {
         "data": {
          "bar": [
           {
            "error_x": {
             "color": "#2a3f5f"
            },
            "error_y": {
             "color": "#2a3f5f"
            },
            "marker": {
             "line": {
              "color": "#E5ECF6",
              "width": 0.5
             },
             "pattern": {
              "fillmode": "overlay",
              "size": 10,
              "solidity": 0.2
             }
            },
            "type": "bar"
           }
          ],
          "barpolar": [
           {
            "marker": {
             "line": {
              "color": "#E5ECF6",
              "width": 0.5
             },
             "pattern": {
              "fillmode": "overlay",
              "size": 10,
              "solidity": 0.2
             }
            },
            "type": "barpolar"
           }
          ],
          "carpet": [
           {
            "aaxis": {
             "endlinecolor": "#2a3f5f",
             "gridcolor": "white",
             "linecolor": "white",
             "minorgridcolor": "white",
             "startlinecolor": "#2a3f5f"
            },
            "baxis": {
             "endlinecolor": "#2a3f5f",
             "gridcolor": "white",
             "linecolor": "white",
             "minorgridcolor": "white",
             "startlinecolor": "#2a3f5f"
            },
            "type": "carpet"
           }
          ],
          "choropleth": [
           {
            "colorbar": {
             "outlinewidth": 0,
             "ticks": ""
            },
            "type": "choropleth"
           }
          ],
          "contour": [
           {
            "colorbar": {
             "outlinewidth": 0,
             "ticks": ""
            },
            "colorscale": [
             [
              0,
              "#0d0887"
             ],
             [
              0.1111111111111111,
              "#46039f"
             ],
             [
              0.2222222222222222,
              "#7201a8"
             ],
             [
              0.3333333333333333,
              "#9c179e"
             ],
             [
              0.4444444444444444,
              "#bd3786"
             ],
             [
              0.5555555555555556,
              "#d8576b"
             ],
             [
              0.6666666666666666,
              "#ed7953"
             ],
             [
              0.7777777777777778,
              "#fb9f3a"
             ],
             [
              0.8888888888888888,
              "#fdca26"
             ],
             [
              1,
              "#f0f921"
             ]
            ],
            "type": "contour"
           }
          ],
          "contourcarpet": [
           {
            "colorbar": {
             "outlinewidth": 0,
             "ticks": ""
            },
            "type": "contourcarpet"
           }
          ],
          "heatmap": [
           {
            "colorbar": {
             "outlinewidth": 0,
             "ticks": ""
            },
            "colorscale": [
             [
              0,
              "#0d0887"
             ],
             [
              0.1111111111111111,
              "#46039f"
             ],
             [
              0.2222222222222222,
              "#7201a8"
             ],
             [
              0.3333333333333333,
              "#9c179e"
             ],
             [
              0.4444444444444444,
              "#bd3786"
             ],
             [
              0.5555555555555556,
              "#d8576b"
             ],
             [
              0.6666666666666666,
              "#ed7953"
             ],
             [
              0.7777777777777778,
              "#fb9f3a"
             ],
             [
              0.8888888888888888,
              "#fdca26"
             ],
             [
              1,
              "#f0f921"
             ]
            ],
            "type": "heatmap"
           }
          ],
          "heatmapgl": [
           {
            "colorbar": {
             "outlinewidth": 0,
             "ticks": ""
            },
            "colorscale": [
             [
              0,
              "#0d0887"
             ],
             [
              0.1111111111111111,
              "#46039f"
             ],
             [
              0.2222222222222222,
              "#7201a8"
             ],
             [
              0.3333333333333333,
              "#9c179e"
             ],
             [
              0.4444444444444444,
              "#bd3786"
             ],
             [
              0.5555555555555556,
              "#d8576b"
             ],
             [
              0.6666666666666666,
              "#ed7953"
             ],
             [
              0.7777777777777778,
              "#fb9f3a"
             ],
             [
              0.8888888888888888,
              "#fdca26"
             ],
             [
              1,
              "#f0f921"
             ]
            ],
            "type": "heatmapgl"
           }
          ],
          "histogram": [
           {
            "marker": {
             "pattern": {
              "fillmode": "overlay",
              "size": 10,
              "solidity": 0.2
             }
            },
            "type": "histogram"
           }
          ],
          "histogram2d": [
           {
            "colorbar": {
             "outlinewidth": 0,
             "ticks": ""
            },
            "colorscale": [
             [
              0,
              "#0d0887"
             ],
             [
              0.1111111111111111,
              "#46039f"
             ],
             [
              0.2222222222222222,
              "#7201a8"
             ],
             [
              0.3333333333333333,
              "#9c179e"
             ],
             [
              0.4444444444444444,
              "#bd3786"
             ],
             [
              0.5555555555555556,
              "#d8576b"
             ],
             [
              0.6666666666666666,
              "#ed7953"
             ],
             [
              0.7777777777777778,
              "#fb9f3a"
             ],
             [
              0.8888888888888888,
              "#fdca26"
             ],
             [
              1,
              "#f0f921"
             ]
            ],
            "type": "histogram2d"
           }
          ],
          "histogram2dcontour": [
           {
            "colorbar": {
             "outlinewidth": 0,
             "ticks": ""
            },
            "colorscale": [
             [
              0,
              "#0d0887"
             ],
             [
              0.1111111111111111,
              "#46039f"
             ],
             [
              0.2222222222222222,
              "#7201a8"
             ],
             [
              0.3333333333333333,
              "#9c179e"
             ],
             [
              0.4444444444444444,
              "#bd3786"
             ],
             [
              0.5555555555555556,
              "#d8576b"
             ],
             [
              0.6666666666666666,
              "#ed7953"
             ],
             [
              0.7777777777777778,
              "#fb9f3a"
             ],
             [
              0.8888888888888888,
              "#fdca26"
             ],
             [
              1,
              "#f0f921"
             ]
            ],
            "type": "histogram2dcontour"
           }
          ],
          "mesh3d": [
           {
            "colorbar": {
             "outlinewidth": 0,
             "ticks": ""
            },
            "type": "mesh3d"
           }
          ],
          "parcoords": [
           {
            "line": {
             "colorbar": {
              "outlinewidth": 0,
              "ticks": ""
             }
            },
            "type": "parcoords"
           }
          ],
          "pie": [
           {
            "automargin": true,
            "type": "pie"
           }
          ],
          "scatter": [
           {
            "fillpattern": {
             "fillmode": "overlay",
             "size": 10,
             "solidity": 0.2
            },
            "type": "scatter"
           }
          ],
          "scatter3d": [
           {
            "line": {
             "colorbar": {
              "outlinewidth": 0,
              "ticks": ""
             }
            },
            "marker": {
             "colorbar": {
              "outlinewidth": 0,
              "ticks": ""
             }
            },
            "type": "scatter3d"
           }
          ],
          "scattercarpet": [
           {
            "marker": {
             "colorbar": {
              "outlinewidth": 0,
              "ticks": ""
             }
            },
            "type": "scattercarpet"
           }
          ],
          "scattergeo": [
           {
            "marker": {
             "colorbar": {
              "outlinewidth": 0,
              "ticks": ""
             }
            },
            "type": "scattergeo"
           }
          ],
          "scattergl": [
           {
            "marker": {
             "colorbar": {
              "outlinewidth": 0,
              "ticks": ""
             }
            },
            "type": "scattergl"
           }
          ],
          "scattermapbox": [
           {
            "marker": {
             "colorbar": {
              "outlinewidth": 0,
              "ticks": ""
             }
            },
            "type": "scattermapbox"
           }
          ],
          "scatterpolar": [
           {
            "marker": {
             "colorbar": {
              "outlinewidth": 0,
              "ticks": ""
             }
            },
            "type": "scatterpolar"
           }
          ],
          "scatterpolargl": [
           {
            "marker": {
             "colorbar": {
              "outlinewidth": 0,
              "ticks": ""
             }
            },
            "type": "scatterpolargl"
           }
          ],
          "scatterternary": [
           {
            "marker": {
             "colorbar": {
              "outlinewidth": 0,
              "ticks": ""
             }
            },
            "type": "scatterternary"
           }
          ],
          "surface": [
           {
            "colorbar": {
             "outlinewidth": 0,
             "ticks": ""
            },
            "colorscale": [
             [
              0,
              "#0d0887"
             ],
             [
              0.1111111111111111,
              "#46039f"
             ],
             [
              0.2222222222222222,
              "#7201a8"
             ],
             [
              0.3333333333333333,
              "#9c179e"
             ],
             [
              0.4444444444444444,
              "#bd3786"
             ],
             [
              0.5555555555555556,
              "#d8576b"
             ],
             [
              0.6666666666666666,
              "#ed7953"
             ],
             [
              0.7777777777777778,
              "#fb9f3a"
             ],
             [
              0.8888888888888888,
              "#fdca26"
             ],
             [
              1,
              "#f0f921"
             ]
            ],
            "type": "surface"
           }
          ],
          "table": [
           {
            "cells": {
             "fill": {
              "color": "#EBF0F8"
             },
             "line": {
              "color": "white"
             }
            },
            "header": {
             "fill": {
              "color": "#C8D4E3"
             },
             "line": {
              "color": "white"
             }
            },
            "type": "table"
           }
          ]
         },
         "layout": {
          "annotationdefaults": {
           "arrowcolor": "#2a3f5f",
           "arrowhead": 0,
           "arrowwidth": 1
          },
          "autotypenumbers": "strict",
          "coloraxis": {
           "colorbar": {
            "outlinewidth": 0,
            "ticks": ""
           }
          },
          "colorscale": {
           "diverging": [
            [
             0,
             "#8e0152"
            ],
            [
             0.1,
             "#c51b7d"
            ],
            [
             0.2,
             "#de77ae"
            ],
            [
             0.3,
             "#f1b6da"
            ],
            [
             0.4,
             "#fde0ef"
            ],
            [
             0.5,
             "#f7f7f7"
            ],
            [
             0.6,
             "#e6f5d0"
            ],
            [
             0.7,
             "#b8e186"
            ],
            [
             0.8,
             "#7fbc41"
            ],
            [
             0.9,
             "#4d9221"
            ],
            [
             1,
             "#276419"
            ]
           ],
           "sequential": [
            [
             0,
             "#0d0887"
            ],
            [
             0.1111111111111111,
             "#46039f"
            ],
            [
             0.2222222222222222,
             "#7201a8"
            ],
            [
             0.3333333333333333,
             "#9c179e"
            ],
            [
             0.4444444444444444,
             "#bd3786"
            ],
            [
             0.5555555555555556,
             "#d8576b"
            ],
            [
             0.6666666666666666,
             "#ed7953"
            ],
            [
             0.7777777777777778,
             "#fb9f3a"
            ],
            [
             0.8888888888888888,
             "#fdca26"
            ],
            [
             1,
             "#f0f921"
            ]
           ],
           "sequentialminus": [
            [
             0,
             "#0d0887"
            ],
            [
             0.1111111111111111,
             "#46039f"
            ],
            [
             0.2222222222222222,
             "#7201a8"
            ],
            [
             0.3333333333333333,
             "#9c179e"
            ],
            [
             0.4444444444444444,
             "#bd3786"
            ],
            [
             0.5555555555555556,
             "#d8576b"
            ],
            [
             0.6666666666666666,
             "#ed7953"
            ],
            [
             0.7777777777777778,
             "#fb9f3a"
            ],
            [
             0.8888888888888888,
             "#fdca26"
            ],
            [
             1,
             "#f0f921"
            ]
           ]
          },
          "colorway": [
           "#636efa",
           "#EF553B",
           "#00cc96",
           "#ab63fa",
           "#FFA15A",
           "#19d3f3",
           "#FF6692",
           "#B6E880",
           "#FF97FF",
           "#FECB52"
          ],
          "font": {
           "color": "#2a3f5f"
          },
          "geo": {
           "bgcolor": "white",
           "lakecolor": "white",
           "landcolor": "#E5ECF6",
           "showlakes": true,
           "showland": true,
           "subunitcolor": "white"
          },
          "hoverlabel": {
           "align": "left"
          },
          "hovermode": "closest",
          "mapbox": {
           "style": "light"
          },
          "paper_bgcolor": "white",
          "plot_bgcolor": "#E5ECF6",
          "polar": {
           "angularaxis": {
            "gridcolor": "white",
            "linecolor": "white",
            "ticks": ""
           },
           "bgcolor": "#E5ECF6",
           "radialaxis": {
            "gridcolor": "white",
            "linecolor": "white",
            "ticks": ""
           }
          },
          "scene": {
           "xaxis": {
            "backgroundcolor": "#E5ECF6",
            "gridcolor": "white",
            "gridwidth": 2,
            "linecolor": "white",
            "showbackground": true,
            "ticks": "",
            "zerolinecolor": "white"
           },
           "yaxis": {
            "backgroundcolor": "#E5ECF6",
            "gridcolor": "white",
            "gridwidth": 2,
            "linecolor": "white",
            "showbackground": true,
            "ticks": "",
            "zerolinecolor": "white"
           },
           "zaxis": {
            "backgroundcolor": "#E5ECF6",
            "gridcolor": "white",
            "gridwidth": 2,
            "linecolor": "white",
            "showbackground": true,
            "ticks": "",
            "zerolinecolor": "white"
           }
          },
          "shapedefaults": {
           "line": {
            "color": "#2a3f5f"
           }
          },
          "ternary": {
           "aaxis": {
            "gridcolor": "white",
            "linecolor": "white",
            "ticks": ""
           },
           "baxis": {
            "gridcolor": "white",
            "linecolor": "white",
            "ticks": ""
           },
           "bgcolor": "#E5ECF6",
           "caxis": {
            "gridcolor": "white",
            "linecolor": "white",
            "ticks": ""
           }
          },
          "title": {
           "x": 0.05
          },
          "xaxis": {
           "automargin": true,
           "gridcolor": "white",
           "linecolor": "white",
           "ticks": "",
           "title": {
            "standoff": 15
           },
           "zerolinecolor": "white",
           "zerolinewidth": 2
          },
          "yaxis": {
           "automargin": true,
           "gridcolor": "white",
           "linecolor": "white",
           "ticks": "",
           "title": {
            "standoff": 15
           },
           "zerolinecolor": "white",
           "zerolinewidth": 2
          }
         }
        },
        "title": {
         "text": "Sales by Country"
        },
        "xaxis": {
         "anchor": "y",
         "domain": [
          0,
          1
         ],
         "title": {
          "text": "country_code"
         }
        },
        "yaxis": {
         "anchor": "x",
         "domain": [
          0,
          1
         ],
         "title": {
          "text": "sales"
         }
        }
       }
      }
     },
     "metadata": {},
     "output_type": "display_data"
    }
   ],
   "source": [
    "\n",
    "fig = px.bar(sales_by_cat, x='country_code', y='sales', color='sales', title='Sales by Country')\n",
    "fig.show()"
   ]
  },
  {
   "cell_type": "code",
   "execution_count": 9,
   "metadata": {},
   "outputs": [
    {
     "data": {
      "application/vnd.plotly.v1+json": {
       "config": {
        "plotlyServerURL": "https://plot.ly"
       },
       "data": [
        {
         "alignmentgroup": "True",
         "hovertemplate": "country_code=%{x}<br>sales=%{marker.color}<extra></extra>",
         "legendgroup": "",
         "marker": {
          "color": [
           406,
           76,
           37,
           32,
           25,
           24,
           22,
           13,
           12,
           11,
           11,
           10,
           10,
           9,
           9,
           9,
           8,
           8,
           6,
           6,
           6
          ],
          "coloraxis": "coloraxis",
          "pattern": {
           "shape": ""
          }
         },
         "name": "",
         "offsetgroup": "",
         "orientation": "v",
         "showlegend": false,
         "textposition": "auto",
         "type": "bar",
         "x": [
          "us",
          "in",
          "au",
          "uk",
          "br",
          "ca",
          "de",
          "fr",
          "es",
          "mx",
          "nl",
          "sg",
          "dk",
          "pl",
          "my",
          "ae",
          "co",
          "id",
          "ng",
          "jp",
          "be"
         ],
         "xaxis": "x",
         "y": [
          406,
          76,
          37,
          32,
          25,
          24,
          22,
          13,
          12,
          11,
          11,
          10,
          10,
          9,
          9,
          9,
          8,
          8,
          6,
          6,
          6
         ],
         "yaxis": "y"
        }
       ],
       "layout": {
        "barmode": "relative",
        "coloraxis": {
         "colorbar": {
          "title": {
           "text": "sales"
          }
         },
         "colorscale": [
          [
           0,
           "#0d0887"
          ],
          [
           0.1111111111111111,
           "#46039f"
          ],
          [
           0.2222222222222222,
           "#7201a8"
          ],
          [
           0.3333333333333333,
           "#9c179e"
          ],
          [
           0.4444444444444444,
           "#bd3786"
          ],
          [
           0.5555555555555556,
           "#d8576b"
          ],
          [
           0.6666666666666666,
           "#ed7953"
          ],
          [
           0.7777777777777778,
           "#fb9f3a"
          ],
          [
           0.8888888888888888,
           "#fdca26"
          ],
          [
           1,
           "#f0f921"
          ]
         ]
        },
        "legend": {
         "tracegroupgap": 0
        },
        "template": {
         "data": {
          "bar": [
           {
            "error_x": {
             "color": "#2a3f5f"
            },
            "error_y": {
             "color": "#2a3f5f"
            },
            "marker": {
             "line": {
              "color": "#E5ECF6",
              "width": 0.5
             },
             "pattern": {
              "fillmode": "overlay",
              "size": 10,
              "solidity": 0.2
             }
            },
            "type": "bar"
           }
          ],
          "barpolar": [
           {
            "marker": {
             "line": {
              "color": "#E5ECF6",
              "width": 0.5
             },
             "pattern": {
              "fillmode": "overlay",
              "size": 10,
              "solidity": 0.2
             }
            },
            "type": "barpolar"
           }
          ],
          "carpet": [
           {
            "aaxis": {
             "endlinecolor": "#2a3f5f",
             "gridcolor": "white",
             "linecolor": "white",
             "minorgridcolor": "white",
             "startlinecolor": "#2a3f5f"
            },
            "baxis": {
             "endlinecolor": "#2a3f5f",
             "gridcolor": "white",
             "linecolor": "white",
             "minorgridcolor": "white",
             "startlinecolor": "#2a3f5f"
            },
            "type": "carpet"
           }
          ],
          "choropleth": [
           {
            "colorbar": {
             "outlinewidth": 0,
             "ticks": ""
            },
            "type": "choropleth"
           }
          ],
          "contour": [
           {
            "colorbar": {
             "outlinewidth": 0,
             "ticks": ""
            },
            "colorscale": [
             [
              0,
              "#0d0887"
             ],
             [
              0.1111111111111111,
              "#46039f"
             ],
             [
              0.2222222222222222,
              "#7201a8"
             ],
             [
              0.3333333333333333,
              "#9c179e"
             ],
             [
              0.4444444444444444,
              "#bd3786"
             ],
             [
              0.5555555555555556,
              "#d8576b"
             ],
             [
              0.6666666666666666,
              "#ed7953"
             ],
             [
              0.7777777777777778,
              "#fb9f3a"
             ],
             [
              0.8888888888888888,
              "#fdca26"
             ],
             [
              1,
              "#f0f921"
             ]
            ],
            "type": "contour"
           }
          ],
          "contourcarpet": [
           {
            "colorbar": {
             "outlinewidth": 0,
             "ticks": ""
            },
            "type": "contourcarpet"
           }
          ],
          "heatmap": [
           {
            "colorbar": {
             "outlinewidth": 0,
             "ticks": ""
            },
            "colorscale": [
             [
              0,
              "#0d0887"
             ],
             [
              0.1111111111111111,
              "#46039f"
             ],
             [
              0.2222222222222222,
              "#7201a8"
             ],
             [
              0.3333333333333333,
              "#9c179e"
             ],
             [
              0.4444444444444444,
              "#bd3786"
             ],
             [
              0.5555555555555556,
              "#d8576b"
             ],
             [
              0.6666666666666666,
              "#ed7953"
             ],
             [
              0.7777777777777778,
              "#fb9f3a"
             ],
             [
              0.8888888888888888,
              "#fdca26"
             ],
             [
              1,
              "#f0f921"
             ]
            ],
            "type": "heatmap"
           }
          ],
          "heatmapgl": [
           {
            "colorbar": {
             "outlinewidth": 0,
             "ticks": ""
            },
            "colorscale": [
             [
              0,
              "#0d0887"
             ],
             [
              0.1111111111111111,
              "#46039f"
             ],
             [
              0.2222222222222222,
              "#7201a8"
             ],
             [
              0.3333333333333333,
              "#9c179e"
             ],
             [
              0.4444444444444444,
              "#bd3786"
             ],
             [
              0.5555555555555556,
              "#d8576b"
             ],
             [
              0.6666666666666666,
              "#ed7953"
             ],
             [
              0.7777777777777778,
              "#fb9f3a"
             ],
             [
              0.8888888888888888,
              "#fdca26"
             ],
             [
              1,
              "#f0f921"
             ]
            ],
            "type": "heatmapgl"
           }
          ],
          "histogram": [
           {
            "marker": {
             "pattern": {
              "fillmode": "overlay",
              "size": 10,
              "solidity": 0.2
             }
            },
            "type": "histogram"
           }
          ],
          "histogram2d": [
           {
            "colorbar": {
             "outlinewidth": 0,
             "ticks": ""
            },
            "colorscale": [
             [
              0,
              "#0d0887"
             ],
             [
              0.1111111111111111,
              "#46039f"
             ],
             [
              0.2222222222222222,
              "#7201a8"
             ],
             [
              0.3333333333333333,
              "#9c179e"
             ],
             [
              0.4444444444444444,
              "#bd3786"
             ],
             [
              0.5555555555555556,
              "#d8576b"
             ],
             [
              0.6666666666666666,
              "#ed7953"
             ],
             [
              0.7777777777777778,
              "#fb9f3a"
             ],
             [
              0.8888888888888888,
              "#fdca26"
             ],
             [
              1,
              "#f0f921"
             ]
            ],
            "type": "histogram2d"
           }
          ],
          "histogram2dcontour": [
           {
            "colorbar": {
             "outlinewidth": 0,
             "ticks": ""
            },
            "colorscale": [
             [
              0,
              "#0d0887"
             ],
             [
              0.1111111111111111,
              "#46039f"
             ],
             [
              0.2222222222222222,
              "#7201a8"
             ],
             [
              0.3333333333333333,
              "#9c179e"
             ],
             [
              0.4444444444444444,
              "#bd3786"
             ],
             [
              0.5555555555555556,
              "#d8576b"
             ],
             [
              0.6666666666666666,
              "#ed7953"
             ],
             [
              0.7777777777777778,
              "#fb9f3a"
             ],
             [
              0.8888888888888888,
              "#fdca26"
             ],
             [
              1,
              "#f0f921"
             ]
            ],
            "type": "histogram2dcontour"
           }
          ],
          "mesh3d": [
           {
            "colorbar": {
             "outlinewidth": 0,
             "ticks": ""
            },
            "type": "mesh3d"
           }
          ],
          "parcoords": [
           {
            "line": {
             "colorbar": {
              "outlinewidth": 0,
              "ticks": ""
             }
            },
            "type": "parcoords"
           }
          ],
          "pie": [
           {
            "automargin": true,
            "type": "pie"
           }
          ],
          "scatter": [
           {
            "fillpattern": {
             "fillmode": "overlay",
             "size": 10,
             "solidity": 0.2
            },
            "type": "scatter"
           }
          ],
          "scatter3d": [
           {
            "line": {
             "colorbar": {
              "outlinewidth": 0,
              "ticks": ""
             }
            },
            "marker": {
             "colorbar": {
              "outlinewidth": 0,
              "ticks": ""
             }
            },
            "type": "scatter3d"
           }
          ],
          "scattercarpet": [
           {
            "marker": {
             "colorbar": {
              "outlinewidth": 0,
              "ticks": ""
             }
            },
            "type": "scattercarpet"
           }
          ],
          "scattergeo": [
           {
            "marker": {
             "colorbar": {
              "outlinewidth": 0,
              "ticks": ""
             }
            },
            "type": "scattergeo"
           }
          ],
          "scattergl": [
           {
            "marker": {
             "colorbar": {
              "outlinewidth": 0,
              "ticks": ""
             }
            },
            "type": "scattergl"
           }
          ],
          "scattermapbox": [
           {
            "marker": {
             "colorbar": {
              "outlinewidth": 0,
              "ticks": ""
             }
            },
            "type": "scattermapbox"
           }
          ],
          "scatterpolar": [
           {
            "marker": {
             "colorbar": {
              "outlinewidth": 0,
              "ticks": ""
             }
            },
            "type": "scatterpolar"
           }
          ],
          "scatterpolargl": [
           {
            "marker": {
             "colorbar": {
              "outlinewidth": 0,
              "ticks": ""
             }
            },
            "type": "scatterpolargl"
           }
          ],
          "scatterternary": [
           {
            "marker": {
             "colorbar": {
              "outlinewidth": 0,
              "ticks": ""
             }
            },
            "type": "scatterternary"
           }
          ],
          "surface": [
           {
            "colorbar": {
             "outlinewidth": 0,
             "ticks": ""
            },
            "colorscale": [
             [
              0,
              "#0d0887"
             ],
             [
              0.1111111111111111,
              "#46039f"
             ],
             [
              0.2222222222222222,
              "#7201a8"
             ],
             [
              0.3333333333333333,
              "#9c179e"
             ],
             [
              0.4444444444444444,
              "#bd3786"
             ],
             [
              0.5555555555555556,
              "#d8576b"
             ],
             [
              0.6666666666666666,
              "#ed7953"
             ],
             [
              0.7777777777777778,
              "#fb9f3a"
             ],
             [
              0.8888888888888888,
              "#fdca26"
             ],
             [
              1,
              "#f0f921"
             ]
            ],
            "type": "surface"
           }
          ],
          "table": [
           {
            "cells": {
             "fill": {
              "color": "#EBF0F8"
             },
             "line": {
              "color": "white"
             }
            },
            "header": {
             "fill": {
              "color": "#C8D4E3"
             },
             "line": {
              "color": "white"
             }
            },
            "type": "table"
           }
          ]
         },
         "layout": {
          "annotationdefaults": {
           "arrowcolor": "#2a3f5f",
           "arrowhead": 0,
           "arrowwidth": 1
          },
          "autotypenumbers": "strict",
          "coloraxis": {
           "colorbar": {
            "outlinewidth": 0,
            "ticks": ""
           }
          },
          "colorscale": {
           "diverging": [
            [
             0,
             "#8e0152"
            ],
            [
             0.1,
             "#c51b7d"
            ],
            [
             0.2,
             "#de77ae"
            ],
            [
             0.3,
             "#f1b6da"
            ],
            [
             0.4,
             "#fde0ef"
            ],
            [
             0.5,
             "#f7f7f7"
            ],
            [
             0.6,
             "#e6f5d0"
            ],
            [
             0.7,
             "#b8e186"
            ],
            [
             0.8,
             "#7fbc41"
            ],
            [
             0.9,
             "#4d9221"
            ],
            [
             1,
             "#276419"
            ]
           ],
           "sequential": [
            [
             0,
             "#0d0887"
            ],
            [
             0.1111111111111111,
             "#46039f"
            ],
            [
             0.2222222222222222,
             "#7201a8"
            ],
            [
             0.3333333333333333,
             "#9c179e"
            ],
            [
             0.4444444444444444,
             "#bd3786"
            ],
            [
             0.5555555555555556,
             "#d8576b"
            ],
            [
             0.6666666666666666,
             "#ed7953"
            ],
            [
             0.7777777777777778,
             "#fb9f3a"
            ],
            [
             0.8888888888888888,
             "#fdca26"
            ],
            [
             1,
             "#f0f921"
            ]
           ],
           "sequentialminus": [
            [
             0,
             "#0d0887"
            ],
            [
             0.1111111111111111,
             "#46039f"
            ],
            [
             0.2222222222222222,
             "#7201a8"
            ],
            [
             0.3333333333333333,
             "#9c179e"
            ],
            [
             0.4444444444444444,
             "#bd3786"
            ],
            [
             0.5555555555555556,
             "#d8576b"
            ],
            [
             0.6666666666666666,
             "#ed7953"
            ],
            [
             0.7777777777777778,
             "#fb9f3a"
            ],
            [
             0.8888888888888888,
             "#fdca26"
            ],
            [
             1,
             "#f0f921"
            ]
           ]
          },
          "colorway": [
           "#636efa",
           "#EF553B",
           "#00cc96",
           "#ab63fa",
           "#FFA15A",
           "#19d3f3",
           "#FF6692",
           "#B6E880",
           "#FF97FF",
           "#FECB52"
          ],
          "font": {
           "color": "#2a3f5f"
          },
          "geo": {
           "bgcolor": "white",
           "lakecolor": "white",
           "landcolor": "#E5ECF6",
           "showlakes": true,
           "showland": true,
           "subunitcolor": "white"
          },
          "hoverlabel": {
           "align": "left"
          },
          "hovermode": "closest",
          "mapbox": {
           "style": "light"
          },
          "paper_bgcolor": "white",
          "plot_bgcolor": "#E5ECF6",
          "polar": {
           "angularaxis": {
            "gridcolor": "white",
            "linecolor": "white",
            "ticks": ""
           },
           "bgcolor": "#E5ECF6",
           "radialaxis": {
            "gridcolor": "white",
            "linecolor": "white",
            "ticks": ""
           }
          },
          "scene": {
           "xaxis": {
            "backgroundcolor": "#E5ECF6",
            "gridcolor": "white",
            "gridwidth": 2,
            "linecolor": "white",
            "showbackground": true,
            "ticks": "",
            "zerolinecolor": "white"
           },
           "yaxis": {
            "backgroundcolor": "#E5ECF6",
            "gridcolor": "white",
            "gridwidth": 2,
            "linecolor": "white",
            "showbackground": true,
            "ticks": "",
            "zerolinecolor": "white"
           },
           "zaxis": {
            "backgroundcolor": "#E5ECF6",
            "gridcolor": "white",
            "gridwidth": 2,
            "linecolor": "white",
            "showbackground": true,
            "ticks": "",
            "zerolinecolor": "white"
           }
          },
          "shapedefaults": {
           "line": {
            "color": "#2a3f5f"
           }
          },
          "ternary": {
           "aaxis": {
            "gridcolor": "white",
            "linecolor": "white",
            "ticks": ""
           },
           "baxis": {
            "gridcolor": "white",
            "linecolor": "white",
            "ticks": ""
           },
           "bgcolor": "#E5ECF6",
           "caxis": {
            "gridcolor": "white",
            "linecolor": "white",
            "ticks": ""
           }
          },
          "title": {
           "x": 0.05
          },
          "xaxis": {
           "automargin": true,
           "gridcolor": "white",
           "linecolor": "white",
           "ticks": "",
           "title": {
            "standoff": 15
           },
           "zerolinecolor": "white",
           "zerolinewidth": 2
          },
          "yaxis": {
           "automargin": true,
           "gridcolor": "white",
           "linecolor": "white",
           "ticks": "",
           "title": {
            "standoff": 15
           },
           "zerolinecolor": "white",
           "zerolinewidth": 2
          }
         }
        },
        "title": {
         "text": "Sales by Country"
        },
        "xaxis": {
         "anchor": "y",
         "domain": [
          0,
          1
         ],
         "title": {
          "text": "country_code"
         }
        },
        "yaxis": {
         "anchor": "x",
         "domain": [
          0,
          1
         ],
         "title": {
          "text": "sales"
         }
        }
       }
      }
     },
     "metadata": {},
     "output_type": "display_data"
    }
   ],
   "source": [
    "above5_px = px.bar(sales_by_cat_ab5, x='country_code', y='sales', color='sales', title='Sales by Country')\n",
    "above5_px.show()\n"
   ]
  },
  {
   "cell_type": "markdown",
   "metadata": {},
   "source": [
    "split by member group"
   ]
  },
  {
   "cell_type": "code",
   "execution_count": 10,
   "metadata": {},
   "outputs": [
    {
     "data": {
      "text/html": [
       "<div>\n",
       "<style scoped>\n",
       "    .dataframe tbody tr th:only-of-type {\n",
       "        vertical-align: middle;\n",
       "    }\n",
       "\n",
       "    .dataframe tbody tr th {\n",
       "        vertical-align: top;\n",
       "    }\n",
       "\n",
       "    .dataframe thead th {\n",
       "        text-align: right;\n",
       "    }\n",
       "</style>\n",
       "<table border=\"1\" class=\"dataframe\">\n",
       "  <thead>\n",
       "    <tr style=\"text-align: right;\">\n",
       "      <th></th>\n",
       "      <th>member_rating</th>\n",
       "      <th>sales</th>\n",
       "      <th>sales_ratio_per_country</th>\n",
       "      <th>ratio_of_total_sales</th>\n",
       "      <th>cumulative_sum</th>\n",
       "    </tr>\n",
       "  </thead>\n",
       "  <tbody>\n",
       "    <tr>\n",
       "      <th>4</th>\n",
       "      <td>1</td>\n",
       "      <td>2</td>\n",
       "      <td>0.009804</td>\n",
       "      <td>0.002079</td>\n",
       "      <td>1.000000</td>\n",
       "    </tr>\n",
       "    <tr>\n",
       "      <th>0</th>\n",
       "      <td>2</td>\n",
       "      <td>435</td>\n",
       "      <td>0.028988</td>\n",
       "      <td>0.452183</td>\n",
       "      <td>0.452183</td>\n",
       "    </tr>\n",
       "    <tr>\n",
       "      <th>3</th>\n",
       "      <td>3</td>\n",
       "      <td>80</td>\n",
       "      <td>0.077071</td>\n",
       "      <td>0.083160</td>\n",
       "      <td>0.997921</td>\n",
       "    </tr>\n",
       "    <tr>\n",
       "      <th>2</th>\n",
       "      <td>4</td>\n",
       "      <td>110</td>\n",
       "      <td>0.082335</td>\n",
       "      <td>0.114345</td>\n",
       "      <td>0.914761</td>\n",
       "    </tr>\n",
       "    <tr>\n",
       "      <th>1</th>\n",
       "      <td>5</td>\n",
       "      <td>335</td>\n",
       "      <td>0.143469</td>\n",
       "      <td>0.348233</td>\n",
       "      <td>0.800416</td>\n",
       "    </tr>\n",
       "  </tbody>\n",
       "</table>\n",
       "</div>"
      ],
      "text/plain": [
       "   member_rating  sales  sales_ratio_per_country  ratio_of_total_sales  \\\n",
       "4              1      2                 0.009804              0.002079   \n",
       "0              2    435                 0.028988              0.452183   \n",
       "3              3     80                 0.077071              0.083160   \n",
       "2              4    110                 0.082335              0.114345   \n",
       "1              5    335                 0.143469              0.348233   \n",
       "\n",
       "   cumulative_sum  \n",
       "4        1.000000  \n",
       "0        0.452183  \n",
       "3        0.997921  \n",
       "2        0.914761  \n",
       "1        0.800416  "
      ]
     },
     "execution_count": 10,
     "metadata": {},
     "output_type": "execute_result"
    }
   ],
   "source": [
    "sales_by_category(leads_df, 'member_rating', sort_by='sales').reset_index().sort_values('member_rating')"
   ]
  },
  {
   "cell_type": "code",
   "execution_count": 13,
   "metadata": {},
   "outputs": [
    {
     "data": {
      "text/html": [
       "<div>\n",
       "<style scoped>\n",
       "    .dataframe tbody tr th:only-of-type {\n",
       "        vertical-align: middle;\n",
       "    }\n",
       "\n",
       "    .dataframe tbody tr th {\n",
       "        vertical-align: top;\n",
       "    }\n",
       "\n",
       "    .dataframe thead th {\n",
       "        text-align: right;\n",
       "    }\n",
       "</style>\n",
       "<table border=\"1\" class=\"dataframe\">\n",
       "  <thead>\n",
       "    <tr style=\"text-align: right;\">\n",
       "      <th></th>\n",
       "      <th>sales</th>\n",
       "      <th>sales_ratio_per_country</th>\n",
       "      <th>ratio_of_total_sales</th>\n",
       "      <th>cumulative_sum</th>\n",
       "    </tr>\n",
       "    <tr>\n",
       "      <th>country_code</th>\n",
       "      <th></th>\n",
       "      <th></th>\n",
       "      <th></th>\n",
       "      <th></th>\n",
       "    </tr>\n",
       "  </thead>\n",
       "  <tbody>\n",
       "    <tr>\n",
       "      <th>us</th>\n",
       "      <td>406</td>\n",
       "      <td>0.107209</td>\n",
       "      <td>0.464531</td>\n",
       "      <td>0.464531</td>\n",
       "    </tr>\n",
       "    <tr>\n",
       "      <th>in</th>\n",
       "      <td>76</td>\n",
       "      <td>0.027890</td>\n",
       "      <td>0.086957</td>\n",
       "      <td>0.551487</td>\n",
       "    </tr>\n",
       "    <tr>\n",
       "      <th>au</th>\n",
       "      <td>37</td>\n",
       "      <td>0.121311</td>\n",
       "      <td>0.042334</td>\n",
       "      <td>0.593822</td>\n",
       "    </tr>\n",
       "    <tr>\n",
       "      <th>uk</th>\n",
       "      <td>32</td>\n",
       "      <td>0.062992</td>\n",
       "      <td>0.036613</td>\n",
       "      <td>0.630435</td>\n",
       "    </tr>\n",
       "    <tr>\n",
       "      <th>br</th>\n",
       "      <td>25</td>\n",
       "      <td>0.068306</td>\n",
       "      <td>0.028604</td>\n",
       "      <td>0.659039</td>\n",
       "    </tr>\n",
       "    <tr>\n",
       "      <th>...</th>\n",
       "      <td>...</td>\n",
       "      <td>...</td>\n",
       "      <td>...</td>\n",
       "      <td>...</td>\n",
       "    </tr>\n",
       "    <tr>\n",
       "      <th>dm</th>\n",
       "      <td>0</td>\n",
       "      <td>0.000000</td>\n",
       "      <td>0.000000</td>\n",
       "      <td>1.000000</td>\n",
       "    </tr>\n",
       "    <tr>\n",
       "      <th>cy</th>\n",
       "      <td>0</td>\n",
       "      <td>0.000000</td>\n",
       "      <td>0.000000</td>\n",
       "      <td>1.000000</td>\n",
       "    </tr>\n",
       "    <tr>\n",
       "      <th>cw</th>\n",
       "      <td>0</td>\n",
       "      <td>0.000000</td>\n",
       "      <td>0.000000</td>\n",
       "      <td>1.000000</td>\n",
       "    </tr>\n",
       "    <tr>\n",
       "      <th>cv</th>\n",
       "      <td>0</td>\n",
       "      <td>0.000000</td>\n",
       "      <td>0.000000</td>\n",
       "      <td>1.000000</td>\n",
       "    </tr>\n",
       "    <tr>\n",
       "      <th>is</th>\n",
       "      <td>0</td>\n",
       "      <td>0.000000</td>\n",
       "      <td>0.000000</td>\n",
       "      <td>1.000000</td>\n",
       "    </tr>\n",
       "  </tbody>\n",
       "</table>\n",
       "<p>183 rows × 4 columns</p>\n",
       "</div>"
      ],
      "text/plain": [
       "              sales  sales_ratio_per_country  ratio_of_total_sales  \\\n",
       "country_code                                                         \n",
       "us              406                 0.107209              0.464531   \n",
       "in               76                 0.027890              0.086957   \n",
       "au               37                 0.121311              0.042334   \n",
       "uk               32                 0.062992              0.036613   \n",
       "br               25                 0.068306              0.028604   \n",
       "...             ...                      ...                   ...   \n",
       "dm                0                 0.000000              0.000000   \n",
       "cy                0                 0.000000              0.000000   \n",
       "cw                0                 0.000000              0.000000   \n",
       "cv                0                 0.000000              0.000000   \n",
       "is                0                 0.000000              0.000000   \n",
       "\n",
       "              cumulative_sum  \n",
       "country_code                  \n",
       "us                  0.464531  \n",
       "in                  0.551487  \n",
       "au                  0.593822  \n",
       "uk                  0.630435  \n",
       "br                  0.659039  \n",
       "...                      ...  \n",
       "dm                  1.000000  \n",
       "cy                  1.000000  \n",
       "cw                  1.000000  \n",
       "cv                  1.000000  \n",
       "is                  1.000000  \n",
       "\n",
       "[183 rows x 4 columns]"
      ]
     },
     "execution_count": 13,
     "metadata": {},
     "output_type": "execute_result"
    }
   ],
   "source": [
    "sales_by_category(leads_df, 'country_code')"
   ]
  }
 ],
 "metadata": {
  "kernelspec": {
   "display_name": "python_ds2_3.9",
   "language": "python",
   "name": "python3"
  },
  "language_info": {
   "codemirror_mode": {
    "name": "ipython",
    "version": 3
   },
   "file_extension": ".py",
   "mimetype": "text/x-python",
   "name": "python",
   "nbconvert_exporter": "python",
   "pygments_lexer": "ipython3",
   "version": "3.9.18"
  }
 },
 "nbformat": 4,
 "nbformat_minor": 2
}
