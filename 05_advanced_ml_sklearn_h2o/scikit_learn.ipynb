{
 "cells": [
  {
   "cell_type": "code",
   "execution_count": 1,
   "id": "initial_id",
   "metadata": {
    "collapsed": true,
    "ExecuteTime": {
     "end_time": "2024-03-25T07:26:57.605564Z",
     "start_time": "2024-03-25T07:26:53.960935Z"
    }
   },
   "outputs": [],
   "source": [
    "from sklearn.pipeline import Pipeline, make_pipeline\n",
    "from sklearn.compose import make_column_transformer\n",
    "from sklearn.model_selection import train_test_split, GridSearchCV\n",
    "from sklearn.preprocessing import OneHotEncoder\n",
    "\n",
    "from sklearn.metrics import roc_auc_score, confusion_matrix\n",
    "\n",
    "from xgboost import XGBClassifier\n",
    "from sklearn.ensemble import RandomForestClassifier\n"
   ]
  },
  {
   "cell_type": "code",
   "outputs": [
    {
     "name": "stderr",
     "output_type": "stream",
     "text": [
      "/Users/jp/miniconda3/envs/python_ds2_3.9/lib/python3.9/site-packages/janitor/utils.py:84: FutureWarning: PandasArray has been renamed NumpyExtensionArray. Use that instead. This alias will be removed in a future version.\n",
      "  @_expand_grid.register(pd.arrays.PandasArray)\n"
     ]
    },
    {
     "name": "stdout",
     "output_type": "stream",
     "text": [
      "replacing tag_aws_webinar with 0\n",
      "replacing tag_learning_lab with 0\n",
      "replacing tag_learning_lab_05 with 0\n",
      "replacing tag_learning_lab_09 with 0\n",
      "replacing tag_learning_lab_11 with 0\n",
      "replacing tag_learning_lab_12 with 0\n",
      "replacing tag_learning_lab_13 with 0\n",
      "replacing tag_learning_lab_14 with 0\n",
      "replacing tag_learning_lab_15 with 0\n",
      "replacing tag_learning_lab_16 with 0\n",
      "replacing tag_learning_lab_17 with 0\n",
      "replacing tag_learning_lab_18 with 0\n",
      "replacing tag_learning_lab_19 with 0\n",
      "replacing tag_learning_lab_20 with 0\n",
      "replacing tag_learning_lab_21 with 0\n",
      "replacing tag_learning_lab_22 with 0\n",
      "replacing tag_learning_lab_23 with 0\n",
      "replacing tag_learning_lab_24 with 0\n",
      "replacing tag_learning_lab_25 with 0\n",
      "replacing tag_learning_lab_26 with 0\n",
      "replacing tag_learning_lab_27 with 0\n",
      "replacing tag_learning_lab_28 with 0\n",
      "replacing tag_learning_lab_29 with 0\n",
      "replacing tag_learning_lab_30 with 0\n",
      "replacing tag_learning_lab_31 with 0\n",
      "replacing tag_learning_lab_32 with 0\n",
      "replacing tag_learning_lab_33 with 0\n",
      "replacing tag_learning_lab_34 with 0\n",
      "replacing tag_learning_lab_35 with 0\n",
      "replacing tag_learning_lab_36 with 0\n",
      "replacing tag_learning_lab_37 with 0\n",
      "replacing tag_learning_lab_38 with 0\n",
      "replacing tag_learning_lab_39 with 0\n",
      "replacing tag_learning_lab_40 with 0\n",
      "replacing tag_learning_lab_41 with 0\n",
      "replacing tag_learning_lab_42 with 0\n",
      "replacing tag_learning_lab_43 with 0\n",
      "replacing tag_learning_lab_44 with 0\n",
      "replacing tag_learning_lab_45 with 0\n",
      "replacing tag_learning_lab_46 with 0\n",
      "replacing tag_learning_lab_47 with 0\n",
      "replacing tag_time_series_webinar with 0\n",
      "replacing tag_webinar with 0\n",
      "replacing tag_webinar_01 with 0\n",
      "replacing tag_webinar_no_degree with 0\n",
      "replacing tag_webinar_no_degree_02 with 0\n"
     ]
    }
   ],
   "source": [
    "import  pandas as pd\n",
    "import  numpy as np\n",
    "import email_lead_scoring as els\n",
    "\n",
    "# Leads Data\n",
    "import  os\n",
    "os.getcwd()\n",
    "\n",
    "leads_df = els.read_and_process('x')\n"
   ],
   "metadata": {
    "collapsed": false,
    "ExecuteTime": {
     "end_time": "2024-03-25T07:27:00.550885Z",
     "start_time": "2024-03-25T07:26:57.610833Z"
    }
   },
   "id": "48b97bd1524e12d7",
   "execution_count": 2
  },
  {
   "cell_type": "code",
   "outputs": [
    {
     "data": {
      "text/plain": "       mailchimp_id          user_full_name                       user_email  \\\n0                 3       Garrick Langworth      garrick.langworth@gmail.com   \n1                 4         Cordell Dickens        cordell.dickens@gmail.com   \n2                 8               Inga Dach              inga.dach@gmail.com   \n3                10     Ferdinand Bergstrom    ferdinand.bergstrom@gmail.com   \n4                11          Justen Simonis         justen.simonis@gmail.com   \n...             ...                     ...                              ...   \n19914         33405   Ms. Felicity Moore MD   ms.felicity.moore.md@gmail.com   \n19915         33406            Shirley Rowe           shirley.rowe@gmail.com   \n19916         33407  Jarrett Walker-Carroll  jarrett.walkercarroll@gmail.com   \n19917         33408            Tanja Herzog           tanja.herzog@gmail.com   \n19918         33409          Farrell Murphy         farrell.murphy@gmail.com   \n\n       member_rating optin_time country_code  time_as_subscriber email_sender  \\\n0                  2 2019-05-22           in                1769        gmail   \n1                  4 2018-11-19        other                1953        gmail   \n2                  2 2018-11-19        other                1953        gmail   \n3                  2 2020-03-20           co                1466        gmail   \n4                  2 2020-04-14        other                1441        gmail   \n...              ...        ...          ...                 ...          ...   \n19914              2 2018-11-18        other                1954        gmail   \n19915              1 2019-03-12           br                1840        gmail   \n19916              2 2019-09-09           in                1659        gmail   \n19917              2 2019-10-24        other                1614        gmail   \n19918              2 2020-06-19           ae                1375        gmail   \n\n       tag_aws_webinar  tag_learning_lab  ...  tag_learning_lab_44  \\\n0                  0.0               1.0  ...                  0.0   \n1                  0.0               0.0  ...                  0.0   \n2                  0.0               0.0  ...                  0.0   \n3                  0.0               1.0  ...                  0.0   \n4                  0.0               0.0  ...                  0.0   \n...                ...               ...  ...                  ...   \n19914              0.0               0.0  ...                  0.0   \n19915              0.0               0.0  ...                  0.0   \n19916              0.0               0.0  ...                  0.0   \n19917              0.0               1.0  ...                  0.0   \n19918              0.0               0.0  ...                  0.0   \n\n       tag_learning_lab_45  tag_learning_lab_46  tag_learning_lab_47  \\\n0                      0.0                  0.0                  0.0   \n1                      0.0                  0.0                  0.0   \n2                      0.0                  0.0                  0.0   \n3                      0.0                  0.0                  0.0   \n4                      0.0                  0.0                  0.0   \n...                    ...                  ...                  ...   \n19914                  0.0                  0.0                  0.0   \n19915                  0.0                  0.0                  0.0   \n19916                  0.0                  0.0                  0.0   \n19917                  0.0                  0.0                  0.0   \n19918                  0.0                  0.0                  0.0   \n\n       tag_time_series_webinar  tag_webinar  tag_webinar_01  \\\n0                          0.0          1.0             0.0   \n1                          0.0          0.0             0.0   \n2                          0.0          0.0             0.0   \n3                          0.0          0.0             0.0   \n4                          0.0          0.0             0.0   \n...                        ...          ...             ...   \n19914                      0.0          0.0             0.0   \n19915                      0.0          0.0             0.0   \n19916                      0.0          0.0             0.0   \n19917                      0.0          0.0             0.0   \n19918                      0.0          0.0             0.0   \n\n       tag_webinar_no_degree  tag_webinar_no_degree_02  made_purchase  \n0                        0.0                       0.0              1  \n1                        0.0                       0.0              1  \n2                        0.0                       0.0              1  \n3                        0.0                       0.0              1  \n4                        0.0                       0.0              0  \n...                      ...                       ...            ...  \n19914                    0.0                       0.0              0  \n19915                    0.0                       0.0              0  \n19916                    0.0                       0.0              0  \n19917                    0.0                       0.0              0  \n19918                    0.0                       0.0              0  \n\n[19919 rows x 55 columns]",
      "text/html": "<div>\n<style scoped>\n    .dataframe tbody tr th:only-of-type {\n        vertical-align: middle;\n    }\n\n    .dataframe tbody tr th {\n        vertical-align: top;\n    }\n\n    .dataframe thead th {\n        text-align: right;\n    }\n</style>\n<table border=\"1\" class=\"dataframe\">\n  <thead>\n    <tr style=\"text-align: right;\">\n      <th></th>\n      <th>mailchimp_id</th>\n      <th>user_full_name</th>\n      <th>user_email</th>\n      <th>member_rating</th>\n      <th>optin_time</th>\n      <th>country_code</th>\n      <th>time_as_subscriber</th>\n      <th>email_sender</th>\n      <th>tag_aws_webinar</th>\n      <th>tag_learning_lab</th>\n      <th>...</th>\n      <th>tag_learning_lab_44</th>\n      <th>tag_learning_lab_45</th>\n      <th>tag_learning_lab_46</th>\n      <th>tag_learning_lab_47</th>\n      <th>tag_time_series_webinar</th>\n      <th>tag_webinar</th>\n      <th>tag_webinar_01</th>\n      <th>tag_webinar_no_degree</th>\n      <th>tag_webinar_no_degree_02</th>\n      <th>made_purchase</th>\n    </tr>\n  </thead>\n  <tbody>\n    <tr>\n      <th>0</th>\n      <td>3</td>\n      <td>Garrick Langworth</td>\n      <td>garrick.langworth@gmail.com</td>\n      <td>2</td>\n      <td>2019-05-22</td>\n      <td>in</td>\n      <td>1769</td>\n      <td>gmail</td>\n      <td>0.0</td>\n      <td>1.0</td>\n      <td>...</td>\n      <td>0.0</td>\n      <td>0.0</td>\n      <td>0.0</td>\n      <td>0.0</td>\n      <td>0.0</td>\n      <td>1.0</td>\n      <td>0.0</td>\n      <td>0.0</td>\n      <td>0.0</td>\n      <td>1</td>\n    </tr>\n    <tr>\n      <th>1</th>\n      <td>4</td>\n      <td>Cordell Dickens</td>\n      <td>cordell.dickens@gmail.com</td>\n      <td>4</td>\n      <td>2018-11-19</td>\n      <td>other</td>\n      <td>1953</td>\n      <td>gmail</td>\n      <td>0.0</td>\n      <td>0.0</td>\n      <td>...</td>\n      <td>0.0</td>\n      <td>0.0</td>\n      <td>0.0</td>\n      <td>0.0</td>\n      <td>0.0</td>\n      <td>0.0</td>\n      <td>0.0</td>\n      <td>0.0</td>\n      <td>0.0</td>\n      <td>1</td>\n    </tr>\n    <tr>\n      <th>2</th>\n      <td>8</td>\n      <td>Inga Dach</td>\n      <td>inga.dach@gmail.com</td>\n      <td>2</td>\n      <td>2018-11-19</td>\n      <td>other</td>\n      <td>1953</td>\n      <td>gmail</td>\n      <td>0.0</td>\n      <td>0.0</td>\n      <td>...</td>\n      <td>0.0</td>\n      <td>0.0</td>\n      <td>0.0</td>\n      <td>0.0</td>\n      <td>0.0</td>\n      <td>0.0</td>\n      <td>0.0</td>\n      <td>0.0</td>\n      <td>0.0</td>\n      <td>1</td>\n    </tr>\n    <tr>\n      <th>3</th>\n      <td>10</td>\n      <td>Ferdinand Bergstrom</td>\n      <td>ferdinand.bergstrom@gmail.com</td>\n      <td>2</td>\n      <td>2020-03-20</td>\n      <td>co</td>\n      <td>1466</td>\n      <td>gmail</td>\n      <td>0.0</td>\n      <td>1.0</td>\n      <td>...</td>\n      <td>0.0</td>\n      <td>0.0</td>\n      <td>0.0</td>\n      <td>0.0</td>\n      <td>0.0</td>\n      <td>0.0</td>\n      <td>0.0</td>\n      <td>0.0</td>\n      <td>0.0</td>\n      <td>1</td>\n    </tr>\n    <tr>\n      <th>4</th>\n      <td>11</td>\n      <td>Justen Simonis</td>\n      <td>justen.simonis@gmail.com</td>\n      <td>2</td>\n      <td>2020-04-14</td>\n      <td>other</td>\n      <td>1441</td>\n      <td>gmail</td>\n      <td>0.0</td>\n      <td>0.0</td>\n      <td>...</td>\n      <td>0.0</td>\n      <td>0.0</td>\n      <td>0.0</td>\n      <td>0.0</td>\n      <td>0.0</td>\n      <td>0.0</td>\n      <td>0.0</td>\n      <td>0.0</td>\n      <td>0.0</td>\n      <td>0</td>\n    </tr>\n    <tr>\n      <th>...</th>\n      <td>...</td>\n      <td>...</td>\n      <td>...</td>\n      <td>...</td>\n      <td>...</td>\n      <td>...</td>\n      <td>...</td>\n      <td>...</td>\n      <td>...</td>\n      <td>...</td>\n      <td>...</td>\n      <td>...</td>\n      <td>...</td>\n      <td>...</td>\n      <td>...</td>\n      <td>...</td>\n      <td>...</td>\n      <td>...</td>\n      <td>...</td>\n      <td>...</td>\n      <td>...</td>\n    </tr>\n    <tr>\n      <th>19914</th>\n      <td>33405</td>\n      <td>Ms. Felicity Moore MD</td>\n      <td>ms.felicity.moore.md@gmail.com</td>\n      <td>2</td>\n      <td>2018-11-18</td>\n      <td>other</td>\n      <td>1954</td>\n      <td>gmail</td>\n      <td>0.0</td>\n      <td>0.0</td>\n      <td>...</td>\n      <td>0.0</td>\n      <td>0.0</td>\n      <td>0.0</td>\n      <td>0.0</td>\n      <td>0.0</td>\n      <td>0.0</td>\n      <td>0.0</td>\n      <td>0.0</td>\n      <td>0.0</td>\n      <td>0</td>\n    </tr>\n    <tr>\n      <th>19915</th>\n      <td>33406</td>\n      <td>Shirley Rowe</td>\n      <td>shirley.rowe@gmail.com</td>\n      <td>1</td>\n      <td>2019-03-12</td>\n      <td>br</td>\n      <td>1840</td>\n      <td>gmail</td>\n      <td>0.0</td>\n      <td>0.0</td>\n      <td>...</td>\n      <td>0.0</td>\n      <td>0.0</td>\n      <td>0.0</td>\n      <td>0.0</td>\n      <td>0.0</td>\n      <td>0.0</td>\n      <td>0.0</td>\n      <td>0.0</td>\n      <td>0.0</td>\n      <td>0</td>\n    </tr>\n    <tr>\n      <th>19916</th>\n      <td>33407</td>\n      <td>Jarrett Walker-Carroll</td>\n      <td>jarrett.walkercarroll@gmail.com</td>\n      <td>2</td>\n      <td>2019-09-09</td>\n      <td>in</td>\n      <td>1659</td>\n      <td>gmail</td>\n      <td>0.0</td>\n      <td>0.0</td>\n      <td>...</td>\n      <td>0.0</td>\n      <td>0.0</td>\n      <td>0.0</td>\n      <td>0.0</td>\n      <td>0.0</td>\n      <td>0.0</td>\n      <td>0.0</td>\n      <td>0.0</td>\n      <td>0.0</td>\n      <td>0</td>\n    </tr>\n    <tr>\n      <th>19917</th>\n      <td>33408</td>\n      <td>Tanja Herzog</td>\n      <td>tanja.herzog@gmail.com</td>\n      <td>2</td>\n      <td>2019-10-24</td>\n      <td>other</td>\n      <td>1614</td>\n      <td>gmail</td>\n      <td>0.0</td>\n      <td>1.0</td>\n      <td>...</td>\n      <td>0.0</td>\n      <td>0.0</td>\n      <td>0.0</td>\n      <td>0.0</td>\n      <td>0.0</td>\n      <td>0.0</td>\n      <td>0.0</td>\n      <td>0.0</td>\n      <td>0.0</td>\n      <td>0</td>\n    </tr>\n    <tr>\n      <th>19918</th>\n      <td>33409</td>\n      <td>Farrell Murphy</td>\n      <td>farrell.murphy@gmail.com</td>\n      <td>2</td>\n      <td>2020-06-19</td>\n      <td>ae</td>\n      <td>1375</td>\n      <td>gmail</td>\n      <td>0.0</td>\n      <td>0.0</td>\n      <td>...</td>\n      <td>0.0</td>\n      <td>0.0</td>\n      <td>0.0</td>\n      <td>0.0</td>\n      <td>0.0</td>\n      <td>0.0</td>\n      <td>0.0</td>\n      <td>0.0</td>\n      <td>0.0</td>\n      <td>0</td>\n    </tr>\n  </tbody>\n</table>\n<p>19919 rows × 55 columns</p>\n</div>"
     },
     "execution_count": 3,
     "metadata": {},
     "output_type": "execute_result"
    }
   ],
   "source": [
    "leads_df"
   ],
   "metadata": {
    "collapsed": false,
    "ExecuteTime": {
     "end_time": "2024-03-25T07:27:00.631449Z",
     "start_time": "2024-03-25T07:27:00.552785Z"
    }
   },
   "id": "a3bfbfaba22d09ca",
   "execution_count": 3
  },
  {
   "cell_type": "code",
   "outputs": [
    {
     "data": {
      "text/plain": "Index(['mailchimp_id', 'user_full_name', 'user_email', 'member_rating',\n       'optin_time', 'country_code', 'time_as_subscriber', 'email_sender',\n       'tag_aws_webinar', 'tag_learning_lab', 'tag_learning_lab_05',\n       'tag_learning_lab_09', 'tag_learning_lab_11', 'tag_learning_lab_12',\n       'tag_learning_lab_13', 'tag_learning_lab_14', 'tag_learning_lab_15',\n       'tag_learning_lab_16', 'tag_learning_lab_17', 'tag_learning_lab_18',\n       'tag_learning_lab_19', 'tag_learning_lab_20', 'tag_learning_lab_21',\n       'tag_learning_lab_22', 'tag_learning_lab_23', 'tag_learning_lab_24',\n       'tag_learning_lab_25', 'tag_learning_lab_26', 'tag_learning_lab_27',\n       'tag_learning_lab_28', 'tag_learning_lab_29', 'tag_learning_lab_30',\n       'tag_learning_lab_31', 'tag_learning_lab_32', 'tag_learning_lab_33',\n       'tag_learning_lab_34', 'tag_learning_lab_35', 'tag_learning_lab_36',\n       'tag_learning_lab_37', 'tag_learning_lab_38', 'tag_learning_lab_39',\n       'tag_learning_lab_40', 'tag_learning_lab_41', 'tag_learning_lab_42',\n       'tag_learning_lab_43', 'tag_learning_lab_44', 'tag_learning_lab_45',\n       'tag_learning_lab_46', 'tag_learning_lab_47', 'tag_time_series_webinar',\n       'tag_webinar', 'tag_webinar_01', 'tag_webinar_no_degree',\n       'tag_webinar_no_degree_02', 'made_purchase'],\n      dtype='object')"
     },
     "execution_count": 4,
     "metadata": {},
     "output_type": "execute_result"
    }
   ],
   "source": [
    "leads_df.columns"
   ],
   "metadata": {
    "collapsed": false,
    "ExecuteTime": {
     "end_time": "2024-03-25T07:27:00.641408Z",
     "start_time": "2024-03-25T07:27:00.634178Z"
    }
   },
   "id": "5fd2b02bd37cc73e",
   "execution_count": 4
  },
  {
   "cell_type": "markdown",
   "source": [
    "## standard model formula\n",
    "y = b0 + b1X1 + e"
   ],
   "metadata": {
    "collapsed": false
   },
   "id": "b921deac83b62d4b"
  },
  {
   "cell_type": "code",
   "outputs": [
    {
     "data": {
      "text/plain": "       member_rating country_code  time_as_subscriber  tag_aws_webinar  \\\n0                  2           in                1769              0.0   \n1                  4        other                1953              0.0   \n2                  2        other                1953              0.0   \n3                  2           co                1466              0.0   \n4                  2        other                1441              0.0   \n...              ...          ...                 ...              ...   \n19914              2        other                1954              0.0   \n19915              1           br                1840              0.0   \n19916              2           in                1659              0.0   \n19917              2        other                1614              0.0   \n19918              2           ae                1375              0.0   \n\n       tag_learning_lab  tag_learning_lab_05  tag_learning_lab_09  \\\n0                   1.0                  0.0                  0.0   \n1                   0.0                  0.0                  0.0   \n2                   0.0                  0.0                  0.0   \n3                   1.0                  0.0                  0.0   \n4                   0.0                  0.0                  0.0   \n...                 ...                  ...                  ...   \n19914               0.0                  0.0                  0.0   \n19915               0.0                  0.0                  0.0   \n19916               0.0                  0.0                  0.0   \n19917               1.0                  0.0                  0.0   \n19918               0.0                  0.0                  0.0   \n\n       tag_learning_lab_11  tag_learning_lab_12  tag_learning_lab_13  ...  \\\n0                      0.0                  1.0                  0.0  ...   \n1                      0.0                  0.0                  0.0  ...   \n2                      0.0                  0.0                  0.0  ...   \n3                      0.0                  0.0                  0.0  ...   \n4                      0.0                  0.0                  0.0  ...   \n...                    ...                  ...                  ...  ...   \n19914                  0.0                  0.0                  0.0  ...   \n19915                  0.0                  0.0                  0.0  ...   \n19916                  0.0                  0.0                  0.0  ...   \n19917                  0.0                  0.0                  0.0  ...   \n19918                  0.0                  0.0                  0.0  ...   \n\n       tag_learning_lab_43  tag_learning_lab_44  tag_learning_lab_45  \\\n0                      0.0                  0.0                  0.0   \n1                      0.0                  0.0                  0.0   \n2                      0.0                  0.0                  0.0   \n3                      0.0                  0.0                  0.0   \n4                      0.0                  0.0                  0.0   \n...                    ...                  ...                  ...   \n19914                  0.0                  0.0                  0.0   \n19915                  0.0                  0.0                  0.0   \n19916                  0.0                  0.0                  0.0   \n19917                  0.0                  0.0                  0.0   \n19918                  0.0                  0.0                  0.0   \n\n       tag_learning_lab_46  tag_learning_lab_47  tag_time_series_webinar  \\\n0                      0.0                  0.0                      0.0   \n1                      0.0                  0.0                      0.0   \n2                      0.0                  0.0                      0.0   \n3                      0.0                  0.0                      0.0   \n4                      0.0                  0.0                      0.0   \n...                    ...                  ...                      ...   \n19914                  0.0                  0.0                      0.0   \n19915                  0.0                  0.0                      0.0   \n19916                  0.0                  0.0                      0.0   \n19917                  0.0                  0.0                      0.0   \n19918                  0.0                  0.0                      0.0   \n\n       tag_webinar  tag_webinar_01  tag_webinar_no_degree  \\\n0              1.0             0.0                    0.0   \n1              0.0             0.0                    0.0   \n2              0.0             0.0                    0.0   \n3              0.0             0.0                    0.0   \n4              0.0             0.0                    0.0   \n...            ...             ...                    ...   \n19914          0.0             0.0                    0.0   \n19915          0.0             0.0                    0.0   \n19916          0.0             0.0                    0.0   \n19917          0.0             0.0                    0.0   \n19918          0.0             0.0                    0.0   \n\n       tag_webinar_no_degree_02  \n0                           0.0  \n1                           0.0  \n2                           0.0  \n3                           0.0  \n4                           0.0  \n...                         ...  \n19914                       0.0  \n19915                       0.0  \n19916                       0.0  \n19917                       0.0  \n19918                       0.0  \n\n[19919 rows x 49 columns]",
      "text/html": "<div>\n<style scoped>\n    .dataframe tbody tr th:only-of-type {\n        vertical-align: middle;\n    }\n\n    .dataframe tbody tr th {\n        vertical-align: top;\n    }\n\n    .dataframe thead th {\n        text-align: right;\n    }\n</style>\n<table border=\"1\" class=\"dataframe\">\n  <thead>\n    <tr style=\"text-align: right;\">\n      <th></th>\n      <th>member_rating</th>\n      <th>country_code</th>\n      <th>time_as_subscriber</th>\n      <th>tag_aws_webinar</th>\n      <th>tag_learning_lab</th>\n      <th>tag_learning_lab_05</th>\n      <th>tag_learning_lab_09</th>\n      <th>tag_learning_lab_11</th>\n      <th>tag_learning_lab_12</th>\n      <th>tag_learning_lab_13</th>\n      <th>...</th>\n      <th>tag_learning_lab_43</th>\n      <th>tag_learning_lab_44</th>\n      <th>tag_learning_lab_45</th>\n      <th>tag_learning_lab_46</th>\n      <th>tag_learning_lab_47</th>\n      <th>tag_time_series_webinar</th>\n      <th>tag_webinar</th>\n      <th>tag_webinar_01</th>\n      <th>tag_webinar_no_degree</th>\n      <th>tag_webinar_no_degree_02</th>\n    </tr>\n  </thead>\n  <tbody>\n    <tr>\n      <th>0</th>\n      <td>2</td>\n      <td>in</td>\n      <td>1769</td>\n      <td>0.0</td>\n      <td>1.0</td>\n      <td>0.0</td>\n      <td>0.0</td>\n      <td>0.0</td>\n      <td>1.0</td>\n      <td>0.0</td>\n      <td>...</td>\n      <td>0.0</td>\n      <td>0.0</td>\n      <td>0.0</td>\n      <td>0.0</td>\n      <td>0.0</td>\n      <td>0.0</td>\n      <td>1.0</td>\n      <td>0.0</td>\n      <td>0.0</td>\n      <td>0.0</td>\n    </tr>\n    <tr>\n      <th>1</th>\n      <td>4</td>\n      <td>other</td>\n      <td>1953</td>\n      <td>0.0</td>\n      <td>0.0</td>\n      <td>0.0</td>\n      <td>0.0</td>\n      <td>0.0</td>\n      <td>0.0</td>\n      <td>0.0</td>\n      <td>...</td>\n      <td>0.0</td>\n      <td>0.0</td>\n      <td>0.0</td>\n      <td>0.0</td>\n      <td>0.0</td>\n      <td>0.0</td>\n      <td>0.0</td>\n      <td>0.0</td>\n      <td>0.0</td>\n      <td>0.0</td>\n    </tr>\n    <tr>\n      <th>2</th>\n      <td>2</td>\n      <td>other</td>\n      <td>1953</td>\n      <td>0.0</td>\n      <td>0.0</td>\n      <td>0.0</td>\n      <td>0.0</td>\n      <td>0.0</td>\n      <td>0.0</td>\n      <td>0.0</td>\n      <td>...</td>\n      <td>0.0</td>\n      <td>0.0</td>\n      <td>0.0</td>\n      <td>0.0</td>\n      <td>0.0</td>\n      <td>0.0</td>\n      <td>0.0</td>\n      <td>0.0</td>\n      <td>0.0</td>\n      <td>0.0</td>\n    </tr>\n    <tr>\n      <th>3</th>\n      <td>2</td>\n      <td>co</td>\n      <td>1466</td>\n      <td>0.0</td>\n      <td>1.0</td>\n      <td>0.0</td>\n      <td>0.0</td>\n      <td>0.0</td>\n      <td>0.0</td>\n      <td>0.0</td>\n      <td>...</td>\n      <td>0.0</td>\n      <td>0.0</td>\n      <td>0.0</td>\n      <td>0.0</td>\n      <td>0.0</td>\n      <td>0.0</td>\n      <td>0.0</td>\n      <td>0.0</td>\n      <td>0.0</td>\n      <td>0.0</td>\n    </tr>\n    <tr>\n      <th>4</th>\n      <td>2</td>\n      <td>other</td>\n      <td>1441</td>\n      <td>0.0</td>\n      <td>0.0</td>\n      <td>0.0</td>\n      <td>0.0</td>\n      <td>0.0</td>\n      <td>0.0</td>\n      <td>0.0</td>\n      <td>...</td>\n      <td>0.0</td>\n      <td>0.0</td>\n      <td>0.0</td>\n      <td>0.0</td>\n      <td>0.0</td>\n      <td>0.0</td>\n      <td>0.0</td>\n      <td>0.0</td>\n      <td>0.0</td>\n      <td>0.0</td>\n    </tr>\n    <tr>\n      <th>...</th>\n      <td>...</td>\n      <td>...</td>\n      <td>...</td>\n      <td>...</td>\n      <td>...</td>\n      <td>...</td>\n      <td>...</td>\n      <td>...</td>\n      <td>...</td>\n      <td>...</td>\n      <td>...</td>\n      <td>...</td>\n      <td>...</td>\n      <td>...</td>\n      <td>...</td>\n      <td>...</td>\n      <td>...</td>\n      <td>...</td>\n      <td>...</td>\n      <td>...</td>\n      <td>...</td>\n    </tr>\n    <tr>\n      <th>19914</th>\n      <td>2</td>\n      <td>other</td>\n      <td>1954</td>\n      <td>0.0</td>\n      <td>0.0</td>\n      <td>0.0</td>\n      <td>0.0</td>\n      <td>0.0</td>\n      <td>0.0</td>\n      <td>0.0</td>\n      <td>...</td>\n      <td>0.0</td>\n      <td>0.0</td>\n      <td>0.0</td>\n      <td>0.0</td>\n      <td>0.0</td>\n      <td>0.0</td>\n      <td>0.0</td>\n      <td>0.0</td>\n      <td>0.0</td>\n      <td>0.0</td>\n    </tr>\n    <tr>\n      <th>19915</th>\n      <td>1</td>\n      <td>br</td>\n      <td>1840</td>\n      <td>0.0</td>\n      <td>0.0</td>\n      <td>0.0</td>\n      <td>0.0</td>\n      <td>0.0</td>\n      <td>0.0</td>\n      <td>0.0</td>\n      <td>...</td>\n      <td>0.0</td>\n      <td>0.0</td>\n      <td>0.0</td>\n      <td>0.0</td>\n      <td>0.0</td>\n      <td>0.0</td>\n      <td>0.0</td>\n      <td>0.0</td>\n      <td>0.0</td>\n      <td>0.0</td>\n    </tr>\n    <tr>\n      <th>19916</th>\n      <td>2</td>\n      <td>in</td>\n      <td>1659</td>\n      <td>0.0</td>\n      <td>0.0</td>\n      <td>0.0</td>\n      <td>0.0</td>\n      <td>0.0</td>\n      <td>0.0</td>\n      <td>0.0</td>\n      <td>...</td>\n      <td>0.0</td>\n      <td>0.0</td>\n      <td>0.0</td>\n      <td>0.0</td>\n      <td>0.0</td>\n      <td>0.0</td>\n      <td>0.0</td>\n      <td>0.0</td>\n      <td>0.0</td>\n      <td>0.0</td>\n    </tr>\n    <tr>\n      <th>19917</th>\n      <td>2</td>\n      <td>other</td>\n      <td>1614</td>\n      <td>0.0</td>\n      <td>1.0</td>\n      <td>0.0</td>\n      <td>0.0</td>\n      <td>0.0</td>\n      <td>0.0</td>\n      <td>0.0</td>\n      <td>...</td>\n      <td>0.0</td>\n      <td>0.0</td>\n      <td>0.0</td>\n      <td>0.0</td>\n      <td>0.0</td>\n      <td>0.0</td>\n      <td>0.0</td>\n      <td>0.0</td>\n      <td>0.0</td>\n      <td>0.0</td>\n    </tr>\n    <tr>\n      <th>19918</th>\n      <td>2</td>\n      <td>ae</td>\n      <td>1375</td>\n      <td>0.0</td>\n      <td>0.0</td>\n      <td>0.0</td>\n      <td>0.0</td>\n      <td>0.0</td>\n      <td>0.0</td>\n      <td>0.0</td>\n      <td>...</td>\n      <td>0.0</td>\n      <td>0.0</td>\n      <td>0.0</td>\n      <td>0.0</td>\n      <td>0.0</td>\n      <td>0.0</td>\n      <td>0.0</td>\n      <td>0.0</td>\n      <td>0.0</td>\n      <td>0.0</td>\n    </tr>\n  </tbody>\n</table>\n<p>19919 rows × 49 columns</p>\n</div>"
     },
     "execution_count": 5,
     "metadata": {},
     "output_type": "execute_result"
    }
   ],
   "source": [
    "# get rid of columns that dont have predictive power\n",
    "x = leads_df.drop(['made_purchase', 'mailchimp_id', 'user_full_name',\n",
    "                   'user_email', 'email_sender', 'optin_time'], axis = 1) \n",
    "x"
   ],
   "metadata": {
    "collapsed": false,
    "ExecuteTime": {
     "end_time": "2024-03-25T07:27:00.713913Z",
     "start_time": "2024-03-25T07:27:00.645744Z"
    }
   },
   "id": "1defb0e62d41e3c4",
   "execution_count": 5
  },
  {
   "cell_type": "code",
   "outputs": [
    {
     "data": {
      "text/plain": "0        1\n1        1\n2        1\n3        1\n4        0\n        ..\n19914    0\n19915    0\n19916    0\n19917    0\n19918    0\nName: made_purchase, Length: 19919, dtype: int64"
     },
     "execution_count": 6,
     "metadata": {},
     "output_type": "execute_result"
    }
   ],
   "source": [
    "# explanatory / target variable\n",
    "# target value is imbalanced 900/18000\n",
    "y = leads_df['made_purchase']\n",
    "y"
   ],
   "metadata": {
    "collapsed": false,
    "ExecuteTime": {
     "end_time": "2024-03-25T07:27:00.724219Z",
     "start_time": "2024-03-25T07:27:00.715334Z"
    }
   },
   "id": "e96c2193639ea7a2",
   "execution_count": 6
  },
  {
   "cell_type": "markdown",
   "source": [
    "## split the data\n",
    "\n",
    "train and test, 80% and 20% respectively"
   ],
   "metadata": {
    "collapsed": false
   },
   "id": "653be5e70b253d3f"
  },
  {
   "cell_type": "code",
   "outputs": [],
   "source": [
    "x_train, x_test, y_train, y_test = train_test_split(x,y, test_size=0.2, random_state=345)"
   ],
   "metadata": {
    "collapsed": false,
    "ExecuteTime": {
     "end_time": "2024-03-25T07:27:00.754285Z",
     "start_time": "2024-03-25T07:27:00.727810Z"
    }
   },
   "id": "17d614d9c69da427",
   "execution_count": 7
  },
  {
   "cell_type": "markdown",
   "source": [
    "## Preprocessing"
   ],
   "metadata": {
    "collapsed": false
   },
   "id": "4f420e28d1876781"
  },
  {
   "cell_type": "markdown",
   "source": [
    "### nominal data to one hot encoding\n",
    "one hot encoding is used to convert nominal data to numerical data\n",
    "remaider = 'passthrough' is used to keep the other columns"
   ],
   "metadata": {
    "collapsed": false
   },
   "id": "6c7157145825f096"
  },
  {
   "cell_type": "code",
   "outputs": [
    {
     "data": {
      "text/plain": "ColumnTransformer(remainder='passthrough',\n                  transformers=[('onehotencoder',\n                                 OneHotEncoder(handle_unknown='ignore'),\n                                 ['country_code'])])",
      "text/html": "<style>#sk-container-id-1 {color: black;}#sk-container-id-1 pre{padding: 0;}#sk-container-id-1 div.sk-toggleable {background-color: white;}#sk-container-id-1 label.sk-toggleable__label {cursor: pointer;display: block;width: 100%;margin-bottom: 0;padding: 0.3em;box-sizing: border-box;text-align: center;}#sk-container-id-1 label.sk-toggleable__label-arrow:before {content: \"▸\";float: left;margin-right: 0.25em;color: #696969;}#sk-container-id-1 label.sk-toggleable__label-arrow:hover:before {color: black;}#sk-container-id-1 div.sk-estimator:hover label.sk-toggleable__label-arrow:before {color: black;}#sk-container-id-1 div.sk-toggleable__content {max-height: 0;max-width: 0;overflow: hidden;text-align: left;background-color: #f0f8ff;}#sk-container-id-1 div.sk-toggleable__content pre {margin: 0.2em;color: black;border-radius: 0.25em;background-color: #f0f8ff;}#sk-container-id-1 input.sk-toggleable__control:checked~div.sk-toggleable__content {max-height: 200px;max-width: 100%;overflow: auto;}#sk-container-id-1 input.sk-toggleable__control:checked~label.sk-toggleable__label-arrow:before {content: \"▾\";}#sk-container-id-1 div.sk-estimator input.sk-toggleable__control:checked~label.sk-toggleable__label {background-color: #d4ebff;}#sk-container-id-1 div.sk-label input.sk-toggleable__control:checked~label.sk-toggleable__label {background-color: #d4ebff;}#sk-container-id-1 input.sk-hidden--visually {border: 0;clip: rect(1px 1px 1px 1px);clip: rect(1px, 1px, 1px, 1px);height: 1px;margin: -1px;overflow: hidden;padding: 0;position: absolute;width: 1px;}#sk-container-id-1 div.sk-estimator {font-family: monospace;background-color: #f0f8ff;border: 1px dotted black;border-radius: 0.25em;box-sizing: border-box;margin-bottom: 0.5em;}#sk-container-id-1 div.sk-estimator:hover {background-color: #d4ebff;}#sk-container-id-1 div.sk-parallel-item::after {content: \"\";width: 100%;border-bottom: 1px solid gray;flex-grow: 1;}#sk-container-id-1 div.sk-label:hover label.sk-toggleable__label {background-color: #d4ebff;}#sk-container-id-1 div.sk-serial::before {content: \"\";position: absolute;border-left: 1px solid gray;box-sizing: border-box;top: 0;bottom: 0;left: 50%;z-index: 0;}#sk-container-id-1 div.sk-serial {display: flex;flex-direction: column;align-items: center;background-color: white;padding-right: 0.2em;padding-left: 0.2em;position: relative;}#sk-container-id-1 div.sk-item {position: relative;z-index: 1;}#sk-container-id-1 div.sk-parallel {display: flex;align-items: stretch;justify-content: center;background-color: white;position: relative;}#sk-container-id-1 div.sk-item::before, #sk-container-id-1 div.sk-parallel-item::before {content: \"\";position: absolute;border-left: 1px solid gray;box-sizing: border-box;top: 0;bottom: 0;left: 50%;z-index: -1;}#sk-container-id-1 div.sk-parallel-item {display: flex;flex-direction: column;z-index: 1;position: relative;background-color: white;}#sk-container-id-1 div.sk-parallel-item:first-child::after {align-self: flex-end;width: 50%;}#sk-container-id-1 div.sk-parallel-item:last-child::after {align-self: flex-start;width: 50%;}#sk-container-id-1 div.sk-parallel-item:only-child::after {width: 0;}#sk-container-id-1 div.sk-dashed-wrapped {border: 1px dashed gray;margin: 0 0.4em 0.5em 0.4em;box-sizing: border-box;padding-bottom: 0.4em;background-color: white;}#sk-container-id-1 div.sk-label label {font-family: monospace;font-weight: bold;display: inline-block;line-height: 1.2em;}#sk-container-id-1 div.sk-label-container {text-align: center;}#sk-container-id-1 div.sk-container {/* jupyter's `normalize.less` sets `[hidden] { display: none; }` but bootstrap.min.css set `[hidden] { display: none !important; }` so we also need the `!important` here to be able to override the default hidden behavior on the sphinx rendered scikit-learn.org. See: https://github.com/scikit-learn/scikit-learn/issues/21755 */display: inline-block !important;position: relative;}#sk-container-id-1 div.sk-text-repr-fallback {display: none;}</style><div id=\"sk-container-id-1\" class=\"sk-top-container\"><div class=\"sk-text-repr-fallback\"><pre>ColumnTransformer(remainder=&#x27;passthrough&#x27;,\n                  transformers=[(&#x27;onehotencoder&#x27;,\n                                 OneHotEncoder(handle_unknown=&#x27;ignore&#x27;),\n                                 [&#x27;country_code&#x27;])])</pre><b>In a Jupyter environment, please rerun this cell to show the HTML representation or trust the notebook. <br />On GitHub, the HTML representation is unable to render, please try loading this page with nbviewer.org.</b></div><div class=\"sk-container\" hidden><div class=\"sk-item sk-dashed-wrapped\"><div class=\"sk-label-container\"><div class=\"sk-label sk-toggleable\"><input class=\"sk-toggleable__control sk-hidden--visually\" id=\"sk-estimator-id-1\" type=\"checkbox\" ><label for=\"sk-estimator-id-1\" class=\"sk-toggleable__label sk-toggleable__label-arrow\">ColumnTransformer</label><div class=\"sk-toggleable__content\"><pre>ColumnTransformer(remainder=&#x27;passthrough&#x27;,\n                  transformers=[(&#x27;onehotencoder&#x27;,\n                                 OneHotEncoder(handle_unknown=&#x27;ignore&#x27;),\n                                 [&#x27;country_code&#x27;])])</pre></div></div></div><div class=\"sk-parallel\"><div class=\"sk-parallel-item\"><div class=\"sk-item\"><div class=\"sk-label-container\"><div class=\"sk-label sk-toggleable\"><input class=\"sk-toggleable__control sk-hidden--visually\" id=\"sk-estimator-id-2\" type=\"checkbox\" ><label for=\"sk-estimator-id-2\" class=\"sk-toggleable__label sk-toggleable__label-arrow\">onehotencoder</label><div class=\"sk-toggleable__content\"><pre>[&#x27;country_code&#x27;]</pre></div></div></div><div class=\"sk-serial\"><div class=\"sk-item\"><div class=\"sk-estimator sk-toggleable\"><input class=\"sk-toggleable__control sk-hidden--visually\" id=\"sk-estimator-id-3\" type=\"checkbox\" ><label for=\"sk-estimator-id-3\" class=\"sk-toggleable__label sk-toggleable__label-arrow\">OneHotEncoder</label><div class=\"sk-toggleable__content\"><pre>OneHotEncoder(handle_unknown=&#x27;ignore&#x27;)</pre></div></div></div></div></div></div><div class=\"sk-parallel-item\"><div class=\"sk-item\"><div class=\"sk-label-container\"><div class=\"sk-label sk-toggleable\"><input class=\"sk-toggleable__control sk-hidden--visually\" id=\"sk-estimator-id-4\" type=\"checkbox\" ><label for=\"sk-estimator-id-4\" class=\"sk-toggleable__label sk-toggleable__label-arrow\">remainder</label><div class=\"sk-toggleable__content\"><pre></pre></div></div></div><div class=\"sk-serial\"><div class=\"sk-item\"><div class=\"sk-estimator sk-toggleable\"><input class=\"sk-toggleable__control sk-hidden--visually\" id=\"sk-estimator-id-5\" type=\"checkbox\" ><label for=\"sk-estimator-id-5\" class=\"sk-toggleable__label sk-toggleable__label-arrow\">passthrough</label><div class=\"sk-toggleable__content\"><pre>passthrough</pre></div></div></div></div></div></div></div></div></div></div>"
     },
     "execution_count": 8,
     "metadata": {},
     "output_type": "execute_result"
    }
   ],
   "source": [
    "enc = OneHotEncoder(handle_unknown='ignore')\n",
    "transformer = make_column_transformer(\n",
    "    (enc, ['country_code']),remainder='passthrough'\n",
    ")\n",
    "transformer"
   ],
   "metadata": {
    "collapsed": false,
    "ExecuteTime": {
     "end_time": "2024-03-25T07:27:00.766292Z",
     "start_time": "2024-03-25T07:27:00.756915Z"
    }
   },
   "id": "5db156105178b67b",
   "execution_count": 8
  },
  {
   "cell_type": "markdown",
   "source": [
    "## pipeline\n",
    "similar to tidymodels -> recipe, parsnip, workflow"
   ],
   "metadata": {
    "collapsed": false
   },
   "id": "a07e6fcab87d831b"
  },
  {
   "cell_type": "code",
   "outputs": [],
   "source": [
    "pipeline_rf = make_pipeline(transformer, RandomForestClassifier())"
   ],
   "metadata": {
    "collapsed": false,
    "ExecuteTime": {
     "end_time": "2024-03-25T07:27:00.772720Z",
     "start_time": "2024-03-25T07:27:00.768850Z"
    }
   },
   "id": "2b84c8a4473f6503",
   "execution_count": 9
  },
  {
   "cell_type": "markdown",
   "source": [
    "## fit and predict model\n",
    "use training set, proba gives the probability of the target variable"
   ],
   "metadata": {
    "collapsed": false
   },
   "id": "52513f734abdb052"
  },
  {
   "cell_type": "code",
   "outputs": [
    {
     "data": {
      "text/plain": "array([[1.00000000e+00, 0.00000000e+00],\n       [8.89435655e-01, 1.10564345e-01],\n       [9.99891304e-01, 1.08695652e-04],\n       ...,\n       [1.00000000e+00, 0.00000000e+00],\n       [8.75000000e-01, 1.25000000e-01],\n       [1.00000000e+00, 0.00000000e+00]])"
     },
     "execution_count": 10,
     "metadata": {},
     "output_type": "execute_result"
    }
   ],
   "source": [
    "pipeline_rf.fit(x_train, y_train)\n",
    "y_pred_prob = pipeline_rf.predict_proba(x_train)\n",
    "y_pred_prob"
   ],
   "metadata": {
    "collapsed": false,
    "ExecuteTime": {
     "end_time": "2024-03-25T07:27:03.277952Z",
     "start_time": "2024-03-25T07:27:00.775948Z"
    }
   },
   "id": "32016ae0a23b9a6",
   "execution_count": 10
  },
  {
   "cell_type": "markdown",
   "source": [
    "## metrics for the model\n",
    "without parameter tuning"
   ],
   "metadata": {
    "collapsed": false
   },
   "id": "39592d844076c492"
  },
  {
   "cell_type": "code",
   "outputs": [
    {
     "data": {
      "text/plain": "0.9890178851584562"
     },
     "execution_count": 11,
     "metadata": {},
     "output_type": "execute_result"
    }
   ],
   "source": [
    "pipeline_rf.score(x_train, y_train)"
   ],
   "metadata": {
    "collapsed": false,
    "ExecuteTime": {
     "end_time": "2024-03-25T07:27:03.714111Z",
     "start_time": "2024-03-25T07:27:03.279921Z"
    }
   },
   "id": "f6f44983fc96a705",
   "execution_count": 11
  },
  {
   "cell_type": "code",
   "outputs": [],
   "source": [
    "\n",
    "predicted_class_rf = pipeline_rf.predict_proba(x_train)[:,1] > 0.01 # select the second column"
   ],
   "metadata": {
    "collapsed": false,
    "ExecuteTime": {
     "end_time": "2024-03-25T07:27:04.115431Z",
     "start_time": "2024-03-25T07:27:03.715833Z"
    }
   },
   "id": "2671e31609ddb4da",
   "execution_count": 12
  },
  {
   "cell_type": "code",
   "outputs": [
    {
     "data": {
      "text/plain": "0.8698924621872373"
     },
     "execution_count": 13,
     "metadata": {},
     "output_type": "execute_result"
    }
   ],
   "source": [
    "roc_auc_score(y_train, predicted_class_rf) # auc is area under the curve, 0.5 is random"
   ],
   "metadata": {
    "collapsed": false,
    "ExecuteTime": {
     "end_time": "2024-03-25T07:27:04.131236Z",
     "start_time": "2024-03-25T07:27:04.117282Z"
    }
   },
   "id": "7b35fdce3b6d1b0",
   "execution_count": 13
  },
  {
   "cell_type": "code",
   "outputs": [
    {
     "data": {
      "text/plain": "array([[11237,  3926],\n       [    1,   771]])"
     },
     "execution_count": 14,
     "metadata": {},
     "output_type": "execute_result"
    }
   ],
   "source": [
    "confusion_matrix(y_train, predicted_class_rf) # 3853 false positives, 2 false negatives"
   ],
   "metadata": {
    "collapsed": false,
    "ExecuteTime": {
     "end_time": "2024-03-25T07:27:04.148497Z",
     "start_time": "2024-03-25T07:27:04.137777Z"
    }
   },
   "id": "5239b632aa973c81",
   "execution_count": 14
  },
  {
   "cell_type": "markdown",
   "source": [
    "## tune with grid search\n",
    "grid search is used to find the best hyperparameters. Hyperparameter tuning is needed to have better performing model for new data and avoid overfitting. overfitting is when the model is too complex and performs too good on the training data but not on the test data."
   ],
   "metadata": {
    "collapsed": false
   },
   "id": "1a38ad45335d0c3c"
  },
  {
   "cell_type": "code",
   "outputs": [],
   "source": [
    "grid_xgb=GridSearchCV(\n",
    "    estimator = XGBClassifier(),\n",
    "    param_grid = {\n",
    "        'learning_rate': [0.01, 0.05,0.07,0.1, 0.3,0.5], # learning rate, how fast the model learns \n",
    "    },\n",
    "    cv = 5,\n",
    "    refit=True,\n",
    "    scoring='roc_auc'\n",
    ")"
   ],
   "metadata": {
    "collapsed": false,
    "ExecuteTime": {
     "end_time": "2024-03-25T08:05:09.277853Z",
     "start_time": "2024-03-25T08:05:09.274421Z"
    }
   },
   "id": "c16c155a34956501",
   "execution_count": 26
  },
  {
   "cell_type": "code",
   "outputs": [
    {
     "data": {
      "text/plain": "Pipeline(steps=[('columntransformer',\n                 ColumnTransformer(remainder='passthrough',\n                                   transformers=[('onehotencoder',\n                                                  OneHotEncoder(handle_unknown='ignore'),\n                                                  ['country_code'])])),\n                ('gridsearchcv',\n                 GridSearchCV(cv=5,\n                              estimator=XGBClassifier(base_score=None,\n                                                      booster=None,\n                                                      callbacks=None,\n                                                      colsample_bylevel=None,\n                                                      colsample_bynode=None,\n                                                      colsample_bytree=None,\n                                                      device=None...\n                                                      learning_rate=None,\n                                                      max_bin=None,\n                                                      max_cat_threshold=None,\n                                                      max_cat_to_onehot=None,\n                                                      max_delta_step=None,\n                                                      max_depth=None,\n                                                      max_leaves=None,\n                                                      min_child_weight=None,\n                                                      missing=nan,\n                                                      monotone_constraints=None,\n                                                      multi_strategy=None,\n                                                      n_estimators=None,\n                                                      n_jobs=None,\n                                                      num_parallel_tree=None,\n                                                      random_state=None, ...),\n                              param_grid={'learning_rate': [0.01, 0.05, 0.07,\n                                                            0.1, 0.3, 0.5]},\n                              scoring='roc_auc'))])",
      "text/html": "<style>#sk-container-id-5 {color: black;}#sk-container-id-5 pre{padding: 0;}#sk-container-id-5 div.sk-toggleable {background-color: white;}#sk-container-id-5 label.sk-toggleable__label {cursor: pointer;display: block;width: 100%;margin-bottom: 0;padding: 0.3em;box-sizing: border-box;text-align: center;}#sk-container-id-5 label.sk-toggleable__label-arrow:before {content: \"▸\";float: left;margin-right: 0.25em;color: #696969;}#sk-container-id-5 label.sk-toggleable__label-arrow:hover:before {color: black;}#sk-container-id-5 div.sk-estimator:hover label.sk-toggleable__label-arrow:before {color: black;}#sk-container-id-5 div.sk-toggleable__content {max-height: 0;max-width: 0;overflow: hidden;text-align: left;background-color: #f0f8ff;}#sk-container-id-5 div.sk-toggleable__content pre {margin: 0.2em;color: black;border-radius: 0.25em;background-color: #f0f8ff;}#sk-container-id-5 input.sk-toggleable__control:checked~div.sk-toggleable__content {max-height: 200px;max-width: 100%;overflow: auto;}#sk-container-id-5 input.sk-toggleable__control:checked~label.sk-toggleable__label-arrow:before {content: \"▾\";}#sk-container-id-5 div.sk-estimator input.sk-toggleable__control:checked~label.sk-toggleable__label {background-color: #d4ebff;}#sk-container-id-5 div.sk-label input.sk-toggleable__control:checked~label.sk-toggleable__label {background-color: #d4ebff;}#sk-container-id-5 input.sk-hidden--visually {border: 0;clip: rect(1px 1px 1px 1px);clip: rect(1px, 1px, 1px, 1px);height: 1px;margin: -1px;overflow: hidden;padding: 0;position: absolute;width: 1px;}#sk-container-id-5 div.sk-estimator {font-family: monospace;background-color: #f0f8ff;border: 1px dotted black;border-radius: 0.25em;box-sizing: border-box;margin-bottom: 0.5em;}#sk-container-id-5 div.sk-estimator:hover {background-color: #d4ebff;}#sk-container-id-5 div.sk-parallel-item::after {content: \"\";width: 100%;border-bottom: 1px solid gray;flex-grow: 1;}#sk-container-id-5 div.sk-label:hover label.sk-toggleable__label {background-color: #d4ebff;}#sk-container-id-5 div.sk-serial::before {content: \"\";position: absolute;border-left: 1px solid gray;box-sizing: border-box;top: 0;bottom: 0;left: 50%;z-index: 0;}#sk-container-id-5 div.sk-serial {display: flex;flex-direction: column;align-items: center;background-color: white;padding-right: 0.2em;padding-left: 0.2em;position: relative;}#sk-container-id-5 div.sk-item {position: relative;z-index: 1;}#sk-container-id-5 div.sk-parallel {display: flex;align-items: stretch;justify-content: center;background-color: white;position: relative;}#sk-container-id-5 div.sk-item::before, #sk-container-id-5 div.sk-parallel-item::before {content: \"\";position: absolute;border-left: 1px solid gray;box-sizing: border-box;top: 0;bottom: 0;left: 50%;z-index: -1;}#sk-container-id-5 div.sk-parallel-item {display: flex;flex-direction: column;z-index: 1;position: relative;background-color: white;}#sk-container-id-5 div.sk-parallel-item:first-child::after {align-self: flex-end;width: 50%;}#sk-container-id-5 div.sk-parallel-item:last-child::after {align-self: flex-start;width: 50%;}#sk-container-id-5 div.sk-parallel-item:only-child::after {width: 0;}#sk-container-id-5 div.sk-dashed-wrapped {border: 1px dashed gray;margin: 0 0.4em 0.5em 0.4em;box-sizing: border-box;padding-bottom: 0.4em;background-color: white;}#sk-container-id-5 div.sk-label label {font-family: monospace;font-weight: bold;display: inline-block;line-height: 1.2em;}#sk-container-id-5 div.sk-label-container {text-align: center;}#sk-container-id-5 div.sk-container {/* jupyter's `normalize.less` sets `[hidden] { display: none; }` but bootstrap.min.css set `[hidden] { display: none !important; }` so we also need the `!important` here to be able to override the default hidden behavior on the sphinx rendered scikit-learn.org. See: https://github.com/scikit-learn/scikit-learn/issues/21755 */display: inline-block !important;position: relative;}#sk-container-id-5 div.sk-text-repr-fallback {display: none;}</style><div id=\"sk-container-id-5\" class=\"sk-top-container\"><div class=\"sk-text-repr-fallback\"><pre>Pipeline(steps=[(&#x27;columntransformer&#x27;,\n                 ColumnTransformer(remainder=&#x27;passthrough&#x27;,\n                                   transformers=[(&#x27;onehotencoder&#x27;,\n                                                  OneHotEncoder(handle_unknown=&#x27;ignore&#x27;),\n                                                  [&#x27;country_code&#x27;])])),\n                (&#x27;gridsearchcv&#x27;,\n                 GridSearchCV(cv=5,\n                              estimator=XGBClassifier(base_score=None,\n                                                      booster=None,\n                                                      callbacks=None,\n                                                      colsample_bylevel=None,\n                                                      colsample_bynode=None,\n                                                      colsample_bytree=None,\n                                                      device=None...\n                                                      learning_rate=None,\n                                                      max_bin=None,\n                                                      max_cat_threshold=None,\n                                                      max_cat_to_onehot=None,\n                                                      max_delta_step=None,\n                                                      max_depth=None,\n                                                      max_leaves=None,\n                                                      min_child_weight=None,\n                                                      missing=nan,\n                                                      monotone_constraints=None,\n                                                      multi_strategy=None,\n                                                      n_estimators=None,\n                                                      n_jobs=None,\n                                                      num_parallel_tree=None,\n                                                      random_state=None, ...),\n                              param_grid={&#x27;learning_rate&#x27;: [0.01, 0.05, 0.07,\n                                                            0.1, 0.3, 0.5]},\n                              scoring=&#x27;roc_auc&#x27;))])</pre><b>In a Jupyter environment, please rerun this cell to show the HTML representation or trust the notebook. <br />On GitHub, the HTML representation is unable to render, please try loading this page with nbviewer.org.</b></div><div class=\"sk-container\" hidden><div class=\"sk-item sk-dashed-wrapped\"><div class=\"sk-label-container\"><div class=\"sk-label sk-toggleable\"><input class=\"sk-toggleable__control sk-hidden--visually\" id=\"sk-estimator-id-27\" type=\"checkbox\" ><label for=\"sk-estimator-id-27\" class=\"sk-toggleable__label sk-toggleable__label-arrow\">Pipeline</label><div class=\"sk-toggleable__content\"><pre>Pipeline(steps=[(&#x27;columntransformer&#x27;,\n                 ColumnTransformer(remainder=&#x27;passthrough&#x27;,\n                                   transformers=[(&#x27;onehotencoder&#x27;,\n                                                  OneHotEncoder(handle_unknown=&#x27;ignore&#x27;),\n                                                  [&#x27;country_code&#x27;])])),\n                (&#x27;gridsearchcv&#x27;,\n                 GridSearchCV(cv=5,\n                              estimator=XGBClassifier(base_score=None,\n                                                      booster=None,\n                                                      callbacks=None,\n                                                      colsample_bylevel=None,\n                                                      colsample_bynode=None,\n                                                      colsample_bytree=None,\n                                                      device=None...\n                                                      learning_rate=None,\n                                                      max_bin=None,\n                                                      max_cat_threshold=None,\n                                                      max_cat_to_onehot=None,\n                                                      max_delta_step=None,\n                                                      max_depth=None,\n                                                      max_leaves=None,\n                                                      min_child_weight=None,\n                                                      missing=nan,\n                                                      monotone_constraints=None,\n                                                      multi_strategy=None,\n                                                      n_estimators=None,\n                                                      n_jobs=None,\n                                                      num_parallel_tree=None,\n                                                      random_state=None, ...),\n                              param_grid={&#x27;learning_rate&#x27;: [0.01, 0.05, 0.07,\n                                                            0.1, 0.3, 0.5]},\n                              scoring=&#x27;roc_auc&#x27;))])</pre></div></div></div><div class=\"sk-serial\"><div class=\"sk-item sk-dashed-wrapped\"><div class=\"sk-label-container\"><div class=\"sk-label sk-toggleable\"><input class=\"sk-toggleable__control sk-hidden--visually\" id=\"sk-estimator-id-28\" type=\"checkbox\" ><label for=\"sk-estimator-id-28\" class=\"sk-toggleable__label sk-toggleable__label-arrow\">columntransformer: ColumnTransformer</label><div class=\"sk-toggleable__content\"><pre>ColumnTransformer(remainder=&#x27;passthrough&#x27;,\n                  transformers=[(&#x27;onehotencoder&#x27;,\n                                 OneHotEncoder(handle_unknown=&#x27;ignore&#x27;),\n                                 [&#x27;country_code&#x27;])])</pre></div></div></div><div class=\"sk-parallel\"><div class=\"sk-parallel-item\"><div class=\"sk-item\"><div class=\"sk-label-container\"><div class=\"sk-label sk-toggleable\"><input class=\"sk-toggleable__control sk-hidden--visually\" id=\"sk-estimator-id-29\" type=\"checkbox\" ><label for=\"sk-estimator-id-29\" class=\"sk-toggleable__label sk-toggleable__label-arrow\">onehotencoder</label><div class=\"sk-toggleable__content\"><pre>[&#x27;country_code&#x27;]</pre></div></div></div><div class=\"sk-serial\"><div class=\"sk-item\"><div class=\"sk-estimator sk-toggleable\"><input class=\"sk-toggleable__control sk-hidden--visually\" id=\"sk-estimator-id-30\" type=\"checkbox\" ><label for=\"sk-estimator-id-30\" class=\"sk-toggleable__label sk-toggleable__label-arrow\">OneHotEncoder</label><div class=\"sk-toggleable__content\"><pre>OneHotEncoder(handle_unknown=&#x27;ignore&#x27;)</pre></div></div></div></div></div></div><div class=\"sk-parallel-item\"><div class=\"sk-item\"><div class=\"sk-label-container\"><div class=\"sk-label sk-toggleable\"><input class=\"sk-toggleable__control sk-hidden--visually\" id=\"sk-estimator-id-31\" type=\"checkbox\" ><label for=\"sk-estimator-id-31\" class=\"sk-toggleable__label sk-toggleable__label-arrow\">remainder</label><div class=\"sk-toggleable__content\"><pre>[&#x27;member_rating&#x27;, &#x27;time_as_subscriber&#x27;, &#x27;tag_aws_webinar&#x27;, &#x27;tag_learning_lab&#x27;, &#x27;tag_learning_lab_05&#x27;, &#x27;tag_learning_lab_09&#x27;, &#x27;tag_learning_lab_11&#x27;, &#x27;tag_learning_lab_12&#x27;, &#x27;tag_learning_lab_13&#x27;, &#x27;tag_learning_lab_14&#x27;, &#x27;tag_learning_lab_15&#x27;, &#x27;tag_learning_lab_16&#x27;, &#x27;tag_learning_lab_17&#x27;, &#x27;tag_learning_lab_18&#x27;, &#x27;tag_learning_lab_19&#x27;, &#x27;tag_learning_lab_20&#x27;, &#x27;tag_learning_lab_21&#x27;, &#x27;tag_learning_lab_22&#x27;, &#x27;tag_learning_lab_23&#x27;, &#x27;tag_learning_lab_24&#x27;, &#x27;tag_learning_lab_25&#x27;, &#x27;tag_learning_lab_26&#x27;, &#x27;tag_learning_lab_27&#x27;, &#x27;tag_learning_lab_28&#x27;, &#x27;tag_learning_lab_29&#x27;, &#x27;tag_learning_lab_30&#x27;, &#x27;tag_learning_lab_31&#x27;, &#x27;tag_learning_lab_32&#x27;, &#x27;tag_learning_lab_33&#x27;, &#x27;tag_learning_lab_34&#x27;, &#x27;tag_learning_lab_35&#x27;, &#x27;tag_learning_lab_36&#x27;, &#x27;tag_learning_lab_37&#x27;, &#x27;tag_learning_lab_38&#x27;, &#x27;tag_learning_lab_39&#x27;, &#x27;tag_learning_lab_40&#x27;, &#x27;tag_learning_lab_41&#x27;, &#x27;tag_learning_lab_42&#x27;, &#x27;tag_learning_lab_43&#x27;, &#x27;tag_learning_lab_44&#x27;, &#x27;tag_learning_lab_45&#x27;, &#x27;tag_learning_lab_46&#x27;, &#x27;tag_learning_lab_47&#x27;, &#x27;tag_time_series_webinar&#x27;, &#x27;tag_webinar&#x27;, &#x27;tag_webinar_01&#x27;, &#x27;tag_webinar_no_degree&#x27;, &#x27;tag_webinar_no_degree_02&#x27;]</pre></div></div></div><div class=\"sk-serial\"><div class=\"sk-item\"><div class=\"sk-estimator sk-toggleable\"><input class=\"sk-toggleable__control sk-hidden--visually\" id=\"sk-estimator-id-32\" type=\"checkbox\" ><label for=\"sk-estimator-id-32\" class=\"sk-toggleable__label sk-toggleable__label-arrow\">passthrough</label><div class=\"sk-toggleable__content\"><pre>passthrough</pre></div></div></div></div></div></div></div></div><div class=\"sk-item sk-dashed-wrapped\"><div class=\"sk-label-container\"><div class=\"sk-label sk-toggleable\"><input class=\"sk-toggleable__control sk-hidden--visually\" id=\"sk-estimator-id-33\" type=\"checkbox\" ><label for=\"sk-estimator-id-33\" class=\"sk-toggleable__label sk-toggleable__label-arrow\">gridsearchcv: GridSearchCV</label><div class=\"sk-toggleable__content\"><pre>GridSearchCV(cv=5,\n             estimator=XGBClassifier(base_score=None, booster=None,\n                                     callbacks=None, colsample_bylevel=None,\n                                     colsample_bynode=None,\n                                     colsample_bytree=None, device=None,\n                                     early_stopping_rounds=None,\n                                     enable_categorical=False, eval_metric=None,\n                                     feature_types=None, gamma=None,\n                                     grow_policy=None, importance_type=None,\n                                     interaction_constraints=None,\n                                     learning_rate=None, max_bin=None,\n                                     max_cat_threshold=None,\n                                     max_cat_to_onehot=None,\n                                     max_delta_step=None, max_depth=None,\n                                     max_leaves=None, min_child_weight=None,\n                                     missing=nan, monotone_constraints=None,\n                                     multi_strategy=None, n_estimators=None,\n                                     n_jobs=None, num_parallel_tree=None,\n                                     random_state=None, ...),\n             param_grid={&#x27;learning_rate&#x27;: [0.01, 0.05, 0.07, 0.1, 0.3, 0.5]},\n             scoring=&#x27;roc_auc&#x27;)</pre></div></div></div><div class=\"sk-parallel\"><div class=\"sk-parallel-item\"><div class=\"sk-item\"><div class=\"sk-label-container\"><div class=\"sk-label sk-toggleable\"><input class=\"sk-toggleable__control sk-hidden--visually\" id=\"sk-estimator-id-34\" type=\"checkbox\" ><label for=\"sk-estimator-id-34\" class=\"sk-toggleable__label sk-toggleable__label-arrow\">estimator: XGBClassifier</label><div class=\"sk-toggleable__content\"><pre>XGBClassifier(base_score=None, booster=None, callbacks=None,\n              colsample_bylevel=None, colsample_bynode=None,\n              colsample_bytree=None, device=None, early_stopping_rounds=None,\n              enable_categorical=False, eval_metric=None, feature_types=None,\n              gamma=None, grow_policy=None, importance_type=None,\n              interaction_constraints=None, learning_rate=None, max_bin=None,\n              max_cat_threshold=None, max_cat_to_onehot=None,\n              max_delta_step=None, max_depth=None, max_leaves=None,\n              min_child_weight=None, missing=nan, monotone_constraints=None,\n              multi_strategy=None, n_estimators=None, n_jobs=None,\n              num_parallel_tree=None, random_state=None, ...)</pre></div></div></div><div class=\"sk-serial\"><div class=\"sk-item\"><div class=\"sk-estimator sk-toggleable\"><input class=\"sk-toggleable__control sk-hidden--visually\" id=\"sk-estimator-id-35\" type=\"checkbox\" ><label for=\"sk-estimator-id-35\" class=\"sk-toggleable__label sk-toggleable__label-arrow\">XGBClassifier</label><div class=\"sk-toggleable__content\"><pre>XGBClassifier(base_score=None, booster=None, callbacks=None,\n              colsample_bylevel=None, colsample_bynode=None,\n              colsample_bytree=None, device=None, early_stopping_rounds=None,\n              enable_categorical=False, eval_metric=None, feature_types=None,\n              gamma=None, grow_policy=None, importance_type=None,\n              interaction_constraints=None, learning_rate=None, max_bin=None,\n              max_cat_threshold=None, max_cat_to_onehot=None,\n              max_delta_step=None, max_depth=None, max_leaves=None,\n              min_child_weight=None, missing=nan, monotone_constraints=None,\n              multi_strategy=None, n_estimators=None, n_jobs=None,\n              num_parallel_tree=None, random_state=None, ...)</pre></div></div></div></div></div></div></div></div></div></div></div></div>"
     },
     "execution_count": 27,
     "metadata": {},
     "output_type": "execute_result"
    }
   ],
   "source": [
    "pipeline_xgb = make_pipeline(transformer, grid_xgb)\n",
    "pipeline_xgb"
   ],
   "metadata": {
    "collapsed": false,
    "ExecuteTime": {
     "end_time": "2024-03-25T08:05:10.552279Z",
     "start_time": "2024-03-25T08:05:10.508406Z"
    }
   },
   "id": "bdf2c5feac07fa2",
   "execution_count": 27
  },
  {
   "cell_type": "code",
   "outputs": [
    {
     "data": {
      "text/plain": "Pipeline(steps=[('columntransformer',\n                 ColumnTransformer(remainder='passthrough',\n                                   transformers=[('onehotencoder',\n                                                  OneHotEncoder(handle_unknown='ignore'),\n                                                  ['country_code'])])),\n                ('gridsearchcv',\n                 GridSearchCV(cv=5,\n                              estimator=XGBClassifier(base_score=None,\n                                                      booster=None,\n                                                      callbacks=None,\n                                                      colsample_bylevel=None,\n                                                      colsample_bynode=None,\n                                                      colsample_bytree=None,\n                                                      device=None...\n                                                      learning_rate=None,\n                                                      max_bin=None,\n                                                      max_cat_threshold=None,\n                                                      max_cat_to_onehot=None,\n                                                      max_delta_step=None,\n                                                      max_depth=None,\n                                                      max_leaves=None,\n                                                      min_child_weight=None,\n                                                      missing=nan,\n                                                      monotone_constraints=None,\n                                                      multi_strategy=None,\n                                                      n_estimators=None,\n                                                      n_jobs=None,\n                                                      num_parallel_tree=None,\n                                                      random_state=None, ...),\n                              param_grid={'learning_rate': [0.01, 0.05, 0.07,\n                                                            0.1, 0.3, 0.5]},\n                              scoring='roc_auc'))])",
      "text/html": "<style>#sk-container-id-6 {color: black;}#sk-container-id-6 pre{padding: 0;}#sk-container-id-6 div.sk-toggleable {background-color: white;}#sk-container-id-6 label.sk-toggleable__label {cursor: pointer;display: block;width: 100%;margin-bottom: 0;padding: 0.3em;box-sizing: border-box;text-align: center;}#sk-container-id-6 label.sk-toggleable__label-arrow:before {content: \"▸\";float: left;margin-right: 0.25em;color: #696969;}#sk-container-id-6 label.sk-toggleable__label-arrow:hover:before {color: black;}#sk-container-id-6 div.sk-estimator:hover label.sk-toggleable__label-arrow:before {color: black;}#sk-container-id-6 div.sk-toggleable__content {max-height: 0;max-width: 0;overflow: hidden;text-align: left;background-color: #f0f8ff;}#sk-container-id-6 div.sk-toggleable__content pre {margin: 0.2em;color: black;border-radius: 0.25em;background-color: #f0f8ff;}#sk-container-id-6 input.sk-toggleable__control:checked~div.sk-toggleable__content {max-height: 200px;max-width: 100%;overflow: auto;}#sk-container-id-6 input.sk-toggleable__control:checked~label.sk-toggleable__label-arrow:before {content: \"▾\";}#sk-container-id-6 div.sk-estimator input.sk-toggleable__control:checked~label.sk-toggleable__label {background-color: #d4ebff;}#sk-container-id-6 div.sk-label input.sk-toggleable__control:checked~label.sk-toggleable__label {background-color: #d4ebff;}#sk-container-id-6 input.sk-hidden--visually {border: 0;clip: rect(1px 1px 1px 1px);clip: rect(1px, 1px, 1px, 1px);height: 1px;margin: -1px;overflow: hidden;padding: 0;position: absolute;width: 1px;}#sk-container-id-6 div.sk-estimator {font-family: monospace;background-color: #f0f8ff;border: 1px dotted black;border-radius: 0.25em;box-sizing: border-box;margin-bottom: 0.5em;}#sk-container-id-6 div.sk-estimator:hover {background-color: #d4ebff;}#sk-container-id-6 div.sk-parallel-item::after {content: \"\";width: 100%;border-bottom: 1px solid gray;flex-grow: 1;}#sk-container-id-6 div.sk-label:hover label.sk-toggleable__label {background-color: #d4ebff;}#sk-container-id-6 div.sk-serial::before {content: \"\";position: absolute;border-left: 1px solid gray;box-sizing: border-box;top: 0;bottom: 0;left: 50%;z-index: 0;}#sk-container-id-6 div.sk-serial {display: flex;flex-direction: column;align-items: center;background-color: white;padding-right: 0.2em;padding-left: 0.2em;position: relative;}#sk-container-id-6 div.sk-item {position: relative;z-index: 1;}#sk-container-id-6 div.sk-parallel {display: flex;align-items: stretch;justify-content: center;background-color: white;position: relative;}#sk-container-id-6 div.sk-item::before, #sk-container-id-6 div.sk-parallel-item::before {content: \"\";position: absolute;border-left: 1px solid gray;box-sizing: border-box;top: 0;bottom: 0;left: 50%;z-index: -1;}#sk-container-id-6 div.sk-parallel-item {display: flex;flex-direction: column;z-index: 1;position: relative;background-color: white;}#sk-container-id-6 div.sk-parallel-item:first-child::after {align-self: flex-end;width: 50%;}#sk-container-id-6 div.sk-parallel-item:last-child::after {align-self: flex-start;width: 50%;}#sk-container-id-6 div.sk-parallel-item:only-child::after {width: 0;}#sk-container-id-6 div.sk-dashed-wrapped {border: 1px dashed gray;margin: 0 0.4em 0.5em 0.4em;box-sizing: border-box;padding-bottom: 0.4em;background-color: white;}#sk-container-id-6 div.sk-label label {font-family: monospace;font-weight: bold;display: inline-block;line-height: 1.2em;}#sk-container-id-6 div.sk-label-container {text-align: center;}#sk-container-id-6 div.sk-container {/* jupyter's `normalize.less` sets `[hidden] { display: none; }` but bootstrap.min.css set `[hidden] { display: none !important; }` so we also need the `!important` here to be able to override the default hidden behavior on the sphinx rendered scikit-learn.org. See: https://github.com/scikit-learn/scikit-learn/issues/21755 */display: inline-block !important;position: relative;}#sk-container-id-6 div.sk-text-repr-fallback {display: none;}</style><div id=\"sk-container-id-6\" class=\"sk-top-container\"><div class=\"sk-text-repr-fallback\"><pre>Pipeline(steps=[(&#x27;columntransformer&#x27;,\n                 ColumnTransformer(remainder=&#x27;passthrough&#x27;,\n                                   transformers=[(&#x27;onehotencoder&#x27;,\n                                                  OneHotEncoder(handle_unknown=&#x27;ignore&#x27;),\n                                                  [&#x27;country_code&#x27;])])),\n                (&#x27;gridsearchcv&#x27;,\n                 GridSearchCV(cv=5,\n                              estimator=XGBClassifier(base_score=None,\n                                                      booster=None,\n                                                      callbacks=None,\n                                                      colsample_bylevel=None,\n                                                      colsample_bynode=None,\n                                                      colsample_bytree=None,\n                                                      device=None...\n                                                      learning_rate=None,\n                                                      max_bin=None,\n                                                      max_cat_threshold=None,\n                                                      max_cat_to_onehot=None,\n                                                      max_delta_step=None,\n                                                      max_depth=None,\n                                                      max_leaves=None,\n                                                      min_child_weight=None,\n                                                      missing=nan,\n                                                      monotone_constraints=None,\n                                                      multi_strategy=None,\n                                                      n_estimators=None,\n                                                      n_jobs=None,\n                                                      num_parallel_tree=None,\n                                                      random_state=None, ...),\n                              param_grid={&#x27;learning_rate&#x27;: [0.01, 0.05, 0.07,\n                                                            0.1, 0.3, 0.5]},\n                              scoring=&#x27;roc_auc&#x27;))])</pre><b>In a Jupyter environment, please rerun this cell to show the HTML representation or trust the notebook. <br />On GitHub, the HTML representation is unable to render, please try loading this page with nbviewer.org.</b></div><div class=\"sk-container\" hidden><div class=\"sk-item sk-dashed-wrapped\"><div class=\"sk-label-container\"><div class=\"sk-label sk-toggleable\"><input class=\"sk-toggleable__control sk-hidden--visually\" id=\"sk-estimator-id-36\" type=\"checkbox\" ><label for=\"sk-estimator-id-36\" class=\"sk-toggleable__label sk-toggleable__label-arrow\">Pipeline</label><div class=\"sk-toggleable__content\"><pre>Pipeline(steps=[(&#x27;columntransformer&#x27;,\n                 ColumnTransformer(remainder=&#x27;passthrough&#x27;,\n                                   transformers=[(&#x27;onehotencoder&#x27;,\n                                                  OneHotEncoder(handle_unknown=&#x27;ignore&#x27;),\n                                                  [&#x27;country_code&#x27;])])),\n                (&#x27;gridsearchcv&#x27;,\n                 GridSearchCV(cv=5,\n                              estimator=XGBClassifier(base_score=None,\n                                                      booster=None,\n                                                      callbacks=None,\n                                                      colsample_bylevel=None,\n                                                      colsample_bynode=None,\n                                                      colsample_bytree=None,\n                                                      device=None...\n                                                      learning_rate=None,\n                                                      max_bin=None,\n                                                      max_cat_threshold=None,\n                                                      max_cat_to_onehot=None,\n                                                      max_delta_step=None,\n                                                      max_depth=None,\n                                                      max_leaves=None,\n                                                      min_child_weight=None,\n                                                      missing=nan,\n                                                      monotone_constraints=None,\n                                                      multi_strategy=None,\n                                                      n_estimators=None,\n                                                      n_jobs=None,\n                                                      num_parallel_tree=None,\n                                                      random_state=None, ...),\n                              param_grid={&#x27;learning_rate&#x27;: [0.01, 0.05, 0.07,\n                                                            0.1, 0.3, 0.5]},\n                              scoring=&#x27;roc_auc&#x27;))])</pre></div></div></div><div class=\"sk-serial\"><div class=\"sk-item sk-dashed-wrapped\"><div class=\"sk-label-container\"><div class=\"sk-label sk-toggleable\"><input class=\"sk-toggleable__control sk-hidden--visually\" id=\"sk-estimator-id-37\" type=\"checkbox\" ><label for=\"sk-estimator-id-37\" class=\"sk-toggleable__label sk-toggleable__label-arrow\">columntransformer: ColumnTransformer</label><div class=\"sk-toggleable__content\"><pre>ColumnTransformer(remainder=&#x27;passthrough&#x27;,\n                  transformers=[(&#x27;onehotencoder&#x27;,\n                                 OneHotEncoder(handle_unknown=&#x27;ignore&#x27;),\n                                 [&#x27;country_code&#x27;])])</pre></div></div></div><div class=\"sk-parallel\"><div class=\"sk-parallel-item\"><div class=\"sk-item\"><div class=\"sk-label-container\"><div class=\"sk-label sk-toggleable\"><input class=\"sk-toggleable__control sk-hidden--visually\" id=\"sk-estimator-id-38\" type=\"checkbox\" ><label for=\"sk-estimator-id-38\" class=\"sk-toggleable__label sk-toggleable__label-arrow\">onehotencoder</label><div class=\"sk-toggleable__content\"><pre>[&#x27;country_code&#x27;]</pre></div></div></div><div class=\"sk-serial\"><div class=\"sk-item\"><div class=\"sk-estimator sk-toggleable\"><input class=\"sk-toggleable__control sk-hidden--visually\" id=\"sk-estimator-id-39\" type=\"checkbox\" ><label for=\"sk-estimator-id-39\" class=\"sk-toggleable__label sk-toggleable__label-arrow\">OneHotEncoder</label><div class=\"sk-toggleable__content\"><pre>OneHotEncoder(handle_unknown=&#x27;ignore&#x27;)</pre></div></div></div></div></div></div><div class=\"sk-parallel-item\"><div class=\"sk-item\"><div class=\"sk-label-container\"><div class=\"sk-label sk-toggleable\"><input class=\"sk-toggleable__control sk-hidden--visually\" id=\"sk-estimator-id-40\" type=\"checkbox\" ><label for=\"sk-estimator-id-40\" class=\"sk-toggleable__label sk-toggleable__label-arrow\">remainder</label><div class=\"sk-toggleable__content\"><pre>[&#x27;member_rating&#x27;, &#x27;time_as_subscriber&#x27;, &#x27;tag_aws_webinar&#x27;, &#x27;tag_learning_lab&#x27;, &#x27;tag_learning_lab_05&#x27;, &#x27;tag_learning_lab_09&#x27;, &#x27;tag_learning_lab_11&#x27;, &#x27;tag_learning_lab_12&#x27;, &#x27;tag_learning_lab_13&#x27;, &#x27;tag_learning_lab_14&#x27;, &#x27;tag_learning_lab_15&#x27;, &#x27;tag_learning_lab_16&#x27;, &#x27;tag_learning_lab_17&#x27;, &#x27;tag_learning_lab_18&#x27;, &#x27;tag_learning_lab_19&#x27;, &#x27;tag_learning_lab_20&#x27;, &#x27;tag_learning_lab_21&#x27;, &#x27;tag_learning_lab_22&#x27;, &#x27;tag_learning_lab_23&#x27;, &#x27;tag_learning_lab_24&#x27;, &#x27;tag_learning_lab_25&#x27;, &#x27;tag_learning_lab_26&#x27;, &#x27;tag_learning_lab_27&#x27;, &#x27;tag_learning_lab_28&#x27;, &#x27;tag_learning_lab_29&#x27;, &#x27;tag_learning_lab_30&#x27;, &#x27;tag_learning_lab_31&#x27;, &#x27;tag_learning_lab_32&#x27;, &#x27;tag_learning_lab_33&#x27;, &#x27;tag_learning_lab_34&#x27;, &#x27;tag_learning_lab_35&#x27;, &#x27;tag_learning_lab_36&#x27;, &#x27;tag_learning_lab_37&#x27;, &#x27;tag_learning_lab_38&#x27;, &#x27;tag_learning_lab_39&#x27;, &#x27;tag_learning_lab_40&#x27;, &#x27;tag_learning_lab_41&#x27;, &#x27;tag_learning_lab_42&#x27;, &#x27;tag_learning_lab_43&#x27;, &#x27;tag_learning_lab_44&#x27;, &#x27;tag_learning_lab_45&#x27;, &#x27;tag_learning_lab_46&#x27;, &#x27;tag_learning_lab_47&#x27;, &#x27;tag_time_series_webinar&#x27;, &#x27;tag_webinar&#x27;, &#x27;tag_webinar_01&#x27;, &#x27;tag_webinar_no_degree&#x27;, &#x27;tag_webinar_no_degree_02&#x27;]</pre></div></div></div><div class=\"sk-serial\"><div class=\"sk-item\"><div class=\"sk-estimator sk-toggleable\"><input class=\"sk-toggleable__control sk-hidden--visually\" id=\"sk-estimator-id-41\" type=\"checkbox\" ><label for=\"sk-estimator-id-41\" class=\"sk-toggleable__label sk-toggleable__label-arrow\">passthrough</label><div class=\"sk-toggleable__content\"><pre>passthrough</pre></div></div></div></div></div></div></div></div><div class=\"sk-item sk-dashed-wrapped\"><div class=\"sk-label-container\"><div class=\"sk-label sk-toggleable\"><input class=\"sk-toggleable__control sk-hidden--visually\" id=\"sk-estimator-id-42\" type=\"checkbox\" ><label for=\"sk-estimator-id-42\" class=\"sk-toggleable__label sk-toggleable__label-arrow\">gridsearchcv: GridSearchCV</label><div class=\"sk-toggleable__content\"><pre>GridSearchCV(cv=5,\n             estimator=XGBClassifier(base_score=None, booster=None,\n                                     callbacks=None, colsample_bylevel=None,\n                                     colsample_bynode=None,\n                                     colsample_bytree=None, device=None,\n                                     early_stopping_rounds=None,\n                                     enable_categorical=False, eval_metric=None,\n                                     feature_types=None, gamma=None,\n                                     grow_policy=None, importance_type=None,\n                                     interaction_constraints=None,\n                                     learning_rate=None, max_bin=None,\n                                     max_cat_threshold=None,\n                                     max_cat_to_onehot=None,\n                                     max_delta_step=None, max_depth=None,\n                                     max_leaves=None, min_child_weight=None,\n                                     missing=nan, monotone_constraints=None,\n                                     multi_strategy=None, n_estimators=None,\n                                     n_jobs=None, num_parallel_tree=None,\n                                     random_state=None, ...),\n             param_grid={&#x27;learning_rate&#x27;: [0.01, 0.05, 0.07, 0.1, 0.3, 0.5]},\n             scoring=&#x27;roc_auc&#x27;)</pre></div></div></div><div class=\"sk-parallel\"><div class=\"sk-parallel-item\"><div class=\"sk-item\"><div class=\"sk-label-container\"><div class=\"sk-label sk-toggleable\"><input class=\"sk-toggleable__control sk-hidden--visually\" id=\"sk-estimator-id-43\" type=\"checkbox\" ><label for=\"sk-estimator-id-43\" class=\"sk-toggleable__label sk-toggleable__label-arrow\">estimator: XGBClassifier</label><div class=\"sk-toggleable__content\"><pre>XGBClassifier(base_score=None, booster=None, callbacks=None,\n              colsample_bylevel=None, colsample_bynode=None,\n              colsample_bytree=None, device=None, early_stopping_rounds=None,\n              enable_categorical=False, eval_metric=None, feature_types=None,\n              gamma=None, grow_policy=None, importance_type=None,\n              interaction_constraints=None, learning_rate=None, max_bin=None,\n              max_cat_threshold=None, max_cat_to_onehot=None,\n              max_delta_step=None, max_depth=None, max_leaves=None,\n              min_child_weight=None, missing=nan, monotone_constraints=None,\n              multi_strategy=None, n_estimators=None, n_jobs=None,\n              num_parallel_tree=None, random_state=None, ...)</pre></div></div></div><div class=\"sk-serial\"><div class=\"sk-item\"><div class=\"sk-estimator sk-toggleable\"><input class=\"sk-toggleable__control sk-hidden--visually\" id=\"sk-estimator-id-44\" type=\"checkbox\" ><label for=\"sk-estimator-id-44\" class=\"sk-toggleable__label sk-toggleable__label-arrow\">XGBClassifier</label><div class=\"sk-toggleable__content\"><pre>XGBClassifier(base_score=None, booster=None, callbacks=None,\n              colsample_bylevel=None, colsample_bynode=None,\n              colsample_bytree=None, device=None, early_stopping_rounds=None,\n              enable_categorical=False, eval_metric=None, feature_types=None,\n              gamma=None, grow_policy=None, importance_type=None,\n              interaction_constraints=None, learning_rate=None, max_bin=None,\n              max_cat_threshold=None, max_cat_to_onehot=None,\n              max_delta_step=None, max_depth=None, max_leaves=None,\n              min_child_weight=None, missing=nan, monotone_constraints=None,\n              multi_strategy=None, n_estimators=None, n_jobs=None,\n              num_parallel_tree=None, random_state=None, ...)</pre></div></div></div></div></div></div></div></div></div></div></div></div>"
     },
     "execution_count": 28,
     "metadata": {},
     "output_type": "execute_result"
    }
   ],
   "source": [
    "pipeline_xgb.fit(x_train, y_train)"
   ],
   "metadata": {
    "collapsed": false,
    "ExecuteTime": {
     "end_time": "2024-03-25T08:05:20.628724Z",
     "start_time": "2024-03-25T08:05:12.755887Z"
    }
   },
   "id": "5fa3ede3a1eb5dd8",
   "execution_count": 28
  },
  {
   "cell_type": "code",
   "outputs": [
    {
     "data": {
      "text/plain": "0.8864075577344497"
     },
     "execution_count": 29,
     "metadata": {},
     "output_type": "execute_result"
    }
   ],
   "source": [
    "pipeline_xgb.score(x_train, y_train)"
   ],
   "metadata": {
    "collapsed": false,
    "ExecuteTime": {
     "end_time": "2024-03-25T08:05:24.862090Z",
     "start_time": "2024-03-25T08:05:24.713675Z"
    }
   },
   "id": "1ccf5fb4ce991bc6",
   "execution_count": 29
  },
  {
   "cell_type": "code",
   "outputs": [
    {
     "data": {
      "text/plain": "{'learning_rate': 0.1}"
     },
     "execution_count": 30,
     "metadata": {},
     "output_type": "execute_result"
    }
   ],
   "source": [
    "# best parameters\n",
    "grid_xgb.best_params_"
   ],
   "metadata": {
    "collapsed": false,
    "ExecuteTime": {
     "end_time": "2024-03-25T08:05:29.411173Z",
     "start_time": "2024-03-25T08:05:29.405791Z"
    }
   },
   "id": "2cb83a81d28514e0",
   "execution_count": 30
  },
  {
   "cell_type": "code",
   "outputs": [
    {
     "data": {
      "text/plain": "array([False, False, False, ..., False, False, False])"
     },
     "execution_count": 33,
     "metadata": {},
     "output_type": "execute_result"
    }
   ],
   "source": [
    "predict_proba_xgb = pipeline_xgb.predict_proba(x_train)[:,1] > 0.19\n",
    "predict_proba_xgb"
   ],
   "metadata": {
    "collapsed": false,
    "ExecuteTime": {
     "end_time": "2024-03-25T08:07:22.006544Z",
     "start_time": "2024-03-25T08:07:21.860117Z"
    }
   },
   "id": "c6e5ff48dad38b64",
   "execution_count": 33
  },
  {
   "cell_type": "code",
   "outputs": [
    {
     "data": {
      "text/plain": "8020     0\n9019     0\n13896    0\n7158     0\n7830     0\n        ..\n1322     0\n6980     0\n16797    0\n18639    0\n3608     0\nName: made_purchase, Length: 15935, dtype: int64"
     },
     "execution_count": 34,
     "metadata": {},
     "output_type": "execute_result"
    }
   ],
   "source": [
    "y_train"
   ],
   "metadata": {
    "collapsed": false,
    "ExecuteTime": {
     "end_time": "2024-03-25T08:07:38.730412Z",
     "start_time": "2024-03-25T08:07:38.724783Z"
    }
   },
   "id": "d47fcb088062ca1f",
   "execution_count": 34
  },
  {
   "cell_type": "markdown",
   "source": [
    "xgboost with current parameters is worse than random forest model"
   ],
   "metadata": {
    "collapsed": false
   },
   "id": "25e3d1b12ce865ad"
  },
  {
   "cell_type": "code",
   "outputs": [
    {
     "data": {
      "text/plain": "0.7395469234320385"
     },
     "execution_count": 32,
     "metadata": {},
     "output_type": "execute_result"
    }
   ],
   "source": [
    "roc_auc_score(y_train, predict_proba_xgb)"
   ],
   "metadata": {
    "collapsed": false,
    "ExecuteTime": {
     "end_time": "2024-03-25T08:05:31.415808Z",
     "start_time": "2024-03-25T08:05:31.403887Z"
    }
   },
   "id": "9363ee5d756dd9b8",
   "execution_count": 32
  },
  {
   "cell_type": "code",
   "outputs": [],
   "source": [
    "%%sql\n"
   ],
   "metadata": {
    "collapsed": false,
    "SqlCellData": {
     "data_source_name": "crm_database.sqlite",
     "variableName$1": "df_sql"
    }
   },
   "id": "91acfa5bad54572"
  },
  {
   "cell_type": "code",
   "outputs": [
    {
     "data": {
      "text/plain": "array([[14846,   317],\n       [  386,   386]])"
     },
     "execution_count": 35,
     "metadata": {},
     "output_type": "execute_result"
    }
   ],
   "source": [
    "confusion_matrix(y_train, predict_proba_xgb)"
   ],
   "metadata": {
    "collapsed": false,
    "ExecuteTime": {
     "end_time": "2024-03-25T08:07:54.019849Z",
     "start_time": "2024-03-25T08:07:54.009025Z"
    }
   },
   "id": "af1c66ff9127f489",
   "execution_count": 35
  },
  {
   "cell_type": "code",
   "outputs": [
    {
     "data": {
      "text/plain": "['pipeline_rf.pkl']"
     },
     "execution_count": 36,
     "metadata": {},
     "output_type": "execute_result"
    }
   ],
   "source": [
    "import joblib\n",
    "joblib.dump(pipeline_rf, 'pipeline_rf.pkl')"
   ],
   "metadata": {
    "collapsed": false,
    "ExecuteTime": {
     "end_time": "2024-03-25T08:13:09.331011Z",
     "start_time": "2024-03-25T08:13:09.244242Z"
    }
   },
   "id": "5663644b39b07c02",
   "execution_count": 36
  },
  {
   "cell_type": "code",
   "outputs": [],
   "source": [
    "# load model\n",
    "joblib.load('pipeline_rf.pkl')"
   ],
   "metadata": {
    "collapsed": false
   },
   "id": "1f60304c21665d3a"
  }
 ],
 "metadata": {
  "kernelspec": {
   "display_name": "Python 3",
   "language": "python",
   "name": "python3"
  },
  "language_info": {
   "codemirror_mode": {
    "name": "ipython",
    "version": 2
   },
   "file_extension": ".py",
   "mimetype": "text/x-python",
   "name": "python",
   "nbconvert_exporter": "python",
   "pygments_lexer": "ipython2",
   "version": "2.7.6"
  }
 },
 "nbformat": 4,
 "nbformat_minor": 5
}
